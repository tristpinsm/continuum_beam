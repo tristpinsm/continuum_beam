{
 "cells": [
  {
   "cell_type": "code",
   "execution_count": null,
   "metadata": {},
   "outputs": [],
   "source": [
    "import healpy\n",
    "from cora.util import hputil\n",
    "import os\n",
    "os.environ[\"OMP_NUM_THREADS\"] = \"8\"\n",
    "import numpy as np\n",
    "from matplotlib import pyplot as plt\n",
    "from matplotlib import ticker\n",
    "from ch_util import ephemeris as ephem, andata, tools\n",
    "from caput.time import unix_to_skyfield_time\n",
    "import h5py\n",
    "import time\n",
    "from datetime import datetime\n",
    "from glob import glob\n",
    "from ch_pipeline.core import telescope\n",
    "from scipy.optimize import leastsq\n",
    "\n",
    "%load_ext autoreload\n",
    "%autoreload 2\n",
    "\n",
    "from continuum_beam import *\n",
    "from beam_utils import model_beam\n",
    "\n",
    "%matplotlib inline\n",
    "plt.rcParams.update({'figure.figsize': (16, 12), 'font.size': 20})"
   ]
  },
  {
   "cell_type": "markdown",
   "metadata": {},
   "source": [
    "## Read simulated visibilities"
   ]
  },
  {
   "cell_type": "code",
   "execution_count": null,
   "metadata": {},
   "outputs": [],
   "source": [
    "xtalk_files = sorted(glob(\"/home/tristpm/def-krs/pipeline_dev/xtalk_vis[01].h5\"))\n",
    "#xtalk_files = sorted(glob(\"/home/tristpm/def-krs/pipeline_dev/xtalk_vis_nosky[01].h5\"))\n",
    "times = []\n",
    "vis = []\n",
    "for f in xtalk_files:\n",
    "    with h5py.File(f) as fh:\n",
    "        times.append(fh['index_map/time'][:])\n",
    "        vis.append(fh['vis'][:])\n",
    "times = np.concatenate(times)\n",
    "vis = np.concatenate(vis, axis=-1)"
   ]
  },
  {
   "cell_type": "code",
   "execution_count": null,
   "metadata": {},
   "outputs": [],
   "source": [
    "with h5py.File(xtalk_files[0]) as fh:\n",
    "    ns_baselines = (fh['index_map/prod'][:,1] % 64) - (fh['index_map/prod'][:,0] % 64)\n",
    "    freq = fh['index_map/freq']['centre'][:]\n",
    "    prod = fh['index_map/prod'][:]"
   ]
  },
  {
   "cell_type": "code",
   "execution_count": null,
   "metadata": {},
   "outputs": [],
   "source": [
    "start_time = times[0]\n",
    "inputs = tools.get_correlator_inputs(ephem.unix_to_datetime(start_time), correlator='pathfinder')\n",
    "pos = tools.get_feed_positions(inputs)\n",
    "pol = tools.get_feed_polarisations(inputs)"
   ]
  },
  {
   "cell_type": "markdown",
   "metadata": {},
   "source": [
    "## Setup model with selection of products"
   ]
  },
  {
   "cell_type": "code",
   "execution_count": null,
   "metadata": {},
   "outputs": [],
   "source": [
    "f_ind = 58  # 408MHz"
   ]
  },
  {
   "cell_type": "code",
   "execution_count": null,
   "metadata": {},
   "outputs": [],
   "source": [
    "#with h5py.File(\"/scratch/cahofer/pass1_p/simulations/freqband_400-500/input_maps_buggy/map_foreground.h5\") as fh:\n",
    "sim_model = ModelVis(freq=freq[f_ind], smooth=True)#, sky_map=hputil.coord_c2g(fh['map'][f_ind,0,:]))"
   ]
  },
  {
   "cell_type": "code",
   "execution_count": null,
   "metadata": {},
   "outputs": [],
   "source": [
    "pol_sel = 'S'\n",
    "\n",
    "prod_excl = []\n",
    "\n",
    "ns_baselines = (pos[prod[:,0],1] - pos[prod[:,1],1])\n",
    "ew_baselines = (pos[prod[:,0],0] - pos[prod[:,1],0])\n",
    "\n",
    "pol_pair = np.empty(prod.shape[0], dtype=[('pol_a', '<U1'), ('pol_b', '<U1')])\n",
    "pol_pair['pol_a'] = pol[prod[:,0]]\n",
    "pol_pair['pol_b'] = pol[prod[:,1]]\n",
    "\n",
    "# exclude bad channels\n",
    "prod_excl += list(np.where(np.logical_not(np.isfinite(ew_baselines + ns_baselines)))[0])\n",
    "# exclude intercyl\n",
    "prod_excl += list(np.where(np.abs(ew_baselines) > 10.)[0])\n",
    "# exclude autos\n",
    "prod_excl += list(np.where(ns_baselines + ew_baselines == 0)[0])\n",
    "# exclude all but SS pol\n",
    "prod_excl += list(np.where(np.logical_not(np.logical_and(pol_pair['pol_a'] == pol_sel,\n",
    "                                                         pol_pair['pol_b'] == pol_sel)))[0])\n",
    "# exclude longer baselines\n",
    "prod_excl += list(np.where(np.abs(ns_baselines) > 0.5 * sim_model.wl / sim_model._res())[0])\n",
    "# get unique values\n",
    "prod_excl = set(prod_excl)\n",
    "\n",
    "prod_sel = np.array([ p for p in range(prod.shape[0]) if not p in prod_excl ])"
   ]
  },
  {
   "cell_type": "code",
   "execution_count": null,
   "metadata": {},
   "outputs": [],
   "source": [
    "vis_sel = vis[f_ind, prod_sel, :]\n",
    "ns_baselines = ns_baselines[prod_sel]"
   ]
  },
  {
   "cell_type": "code",
   "execution_count": null,
   "metadata": {},
   "outputs": [],
   "source": [
    "sim_model.set_baselines(ns_baselines)"
   ]
  },
  {
   "cell_type": "markdown",
   "metadata": {},
   "source": [
    "## Exclude point sources"
   ]
  },
  {
   "cell_type": "code",
   "execution_count": null,
   "metadata": {},
   "outputs": [],
   "source": [
    "sim_ra = ephem.transit_RA(times)\n",
    "ra_res = (sim_ra[1] - sim_ra[0])"
   ]
  },
  {
   "cell_type": "code",
   "execution_count": null,
   "metadata": {},
   "outputs": [],
   "source": [
    "# exclude point source transits\n",
    "excl_ind = []\n",
    "transit_cut = int(10. / ra_res)\n",
    "for src in (ephem.CasA, ephem.CygA, ephem.TauA, ephem.VirA):\n",
    "    src_ind = np.argmin(np.abs(sim_ra - np.degrees(src.ra.radians)))\n",
    "    cut_ext = max(0, src_ind - transit_cut), min(src_ind + transit_cut, len(sim_ra))\n",
    "    excl_ind += range(*cut_ext)\n",
    "# casA also shows up over the pole\n",
    "src_ind = np.argmin(np.abs(sim_ra - np.degrees(ephem.CasA.ra.radians) + 180.))\n",
    "cut_ext = max(0, src_ind - transit_cut - 10), min(src_ind + transit_cut, len(sim_ra) - 1)\n",
    "excl_ind += range(*cut_ext)\n",
    "# try excluding region chosen by eye\n",
    "#excl_ind += range(np.argmin(np.abs(sim_ra - 250.)), np.argmin(np.abs(sim_ra - 300.)))\n",
    "#excl_ind = set(excl_ind)"
   ]
  },
  {
   "cell_type": "code",
   "execution_count": null,
   "metadata": {},
   "outputs": [],
   "source": [
    "for p in range(len(prod_sel)):\n",
    "    if abs(ns_baselines[p]) > 10.:\n",
    "    #if abs(ns_baselines[p]) < 2.:\n",
    "        plt.plot(sim_ra, np.abs(vis_sel[p,:]))\n",
    "plt.plot(sim_ra[time_slice], np.ones_like(time_slice), 'o')\n",
    "plt.vlines(np.degrees(ephem.CasA.ra.radians), *plt.ylim())"
   ]
  },
  {
   "cell_type": "markdown",
   "metadata": {},
   "source": [
    "## Setup beam fit grid"
   ]
  },
  {
   "cell_type": "code",
   "execution_count": null,
   "metadata": {},
   "outputs": [],
   "source": [
    "max_za = 89.\n",
    "max_sinza = np.sin(np.radians(max_za))\n",
    "# approx resolution for smoothed Haslam\n",
    "approx_res = np.degrees(max(0.5 / np.abs(ns_baselines).max(), sim_model._res()))\n",
    "num_pix = int(max_za / approx_res)\n",
    "sinza = np.linspace(-max_sinza, max_sinza, num_pix)\n",
    "za = np.arcsin(sinza)\n",
    "#time_slice = slice(test_ind-5, test_ind+5)\n",
    "#time_slice = slice(0, 180)\n",
    "time_slice = np.array([ i for i in range(len(sim_ra)) if not i in excl_ind ])\n",
    "#time_slice = np.arange(len(sim_ra))"
   ]
  },
  {
   "cell_type": "code",
   "execution_count": null,
   "metadata": {},
   "outputs": [],
   "source": [
    "time_slice = time_slice[::8]"
   ]
  },
  {
   "cell_type": "code",
   "execution_count": null,
   "metadata": {},
   "outputs": [],
   "source": [
    "beam_sol = sim_model.fit_beam(times[time_slice], vis_sel[:,time_slice],\n",
    "                               np.ones_like(vis_sel[:,time_slice]),\n",
    "                               num_pix, max_za=max_za, xtalk_iter=3, resume=True)"
   ]
  },
  {
   "cell_type": "code",
   "execution_count": null,
   "metadata": {},
   "outputs": [],
   "source": [
    "amp_fit = leastsq(lambda t: beam_sol / beam_sol.max() - np.cos(za) * model_beam(za, 0.7, *t), (1.,))\n",
    "\n",
    "plt.plot(za, beam_sol / beam_sol.max(), label='fit')\n",
    "plt.plot(za, np.cos(za)*model_beam(za, 0.7, *amp_fit[0]), label='input')\n",
    "#plt.plot(za, model_beam(za, fwhm_fudge=1.2))\n",
    "plt.legend()\n",
    "plt.xlabel(r\"$\\theta$\")\n",
    "#plt.savefig(\"./xtalk_beam_sol_NS.pdf\", dpi=300)"
   ]
  },
  {
   "cell_type": "code",
   "execution_count": null,
   "metadata": {},
   "outputs": [],
   "source": [
    "amp_fit = leastsq(lambda t: beam_sol / beam_sol.max() - np.cos(za) * model_beam(za, 0.7, *t), (1.,))\n",
    "\n",
    "plt.plot(za, beam_sol / beam_sol.max())\n",
    "plt.plot(za, np.cos(za)*model_beam(za, 0.7, *amp_fit[0]))\n",
    "#plt.plot(za, model_beam(za, fwhm_fudge=1.2))\n",
    "plt.xlabel(r\"$\\theta$\")\n",
    "#plt.savefig(\"./sim_beam_sol_NS.pdf\", dpi=300)"
   ]
  },
  {
   "cell_type": "code",
   "execution_count": null,
   "metadata": {},
   "outputs": [],
   "source": [
    "wl = 3e2 / freq[f_ind]\n",
    "\n",
    "rmap = np.dot(vis_sel[:,time_slice].T, np.exp(-2j * np.pi * sinza[np.newaxis,:] * ns_baselines[:,np.newaxis] / wl)).real\n",
    "rmap_xtalk = np.dot(sim_model.xtalk.T, np.exp(-2j * np.pi * sinza[np.newaxis,:] * ns_baselines[:,np.newaxis] / wl)).real"
   ]
  },
  {
   "cell_type": "code",
   "execution_count": null,
   "metadata": {},
   "outputs": [],
   "source": [
    "plt.plot(rmap_xtalk)"
   ]
  },
  {
   "cell_type": "code",
   "execution_count": null,
   "metadata": {},
   "outputs": [],
   "source": [
    "plt.imshow(rmap.T, aspect='auto', origin='lower', extent=(0, (times[-1]-times[0])/3600, sinza[0], sinza[-1]),\n",
    "          vmax=5000, vmin=-1000)\n",
    "plt.ylabel(r\"$\\sin \\theta$\")\n",
    "plt.xlabel(\"hours since {}\".format(ephem.unix_to_datetime(times[0])))\n",
    "plt.colorbar()\n",
    "plt.title('input map')\n",
    "\n",
    "#plt.savefig(\"xtalk_input_map.png\", dpi=300, bbox_inches='tight')"
   ]
  },
  {
   "cell_type": "code",
   "execution_count": null,
   "metadata": {},
   "outputs": [],
   "source": [
    "#plt.plot(rmap[50,:] - rmap_xtalk)\n",
    "plt.plot(za, rmap_xtalk)\n",
    "plt.xlabel(r\"\\theta\")\n",
    "plt.savefig(\"xtalk_slice.pdf\", dpi=300, bbox_inches='tight')"
   ]
  },
  {
   "cell_type": "code",
   "execution_count": null,
   "metadata": {},
   "outputs": [],
   "source": [
    "model_vis = sim_model.get_vis(times[time_slice], vis_sel[:,time_slice], num_pix, max_za,\n",
    "                              sim_model.beam_sol)\n",
    "#model_vis = sim_model.get_vis(times[time_slice], vis_sel[:,time_slice], num_pix, max_za,\n",
    "#                             )#np.cos(za)*model_beam(za, 0.7, *amp_fit[0]))"
   ]
  },
  {
   "cell_type": "code",
   "execution_count": null,
   "metadata": {},
   "outputs": [],
   "source": [
    "rmap_model = np.dot(model_vis.T, np.exp(-2j * np.pi * sinza[np.newaxis,:] * ns_baselines[:,np.newaxis] / wl)).real\n",
    "rmap_xtalk_sub = np.dot(vis_sel[:,time_slice].T - sim_model.xtalk,\n",
    "                        np.exp(-2j * np.pi * sinza[np.newaxis,:] * ns_baselines[:,np.newaxis] / wl)).real"
   ]
  },
  {
   "cell_type": "code",
   "execution_count": null,
   "metadata": {},
   "outputs": [],
   "source": [
    "plt.imshow(rmap_model.T, aspect='auto', origin='lower', extent=(0, (times[-1]-times[0])/3600, sinza[0], sinza[-1]),\n",
    "          vmax=5000, vmin=-1000)\n",
    "plt.ylabel(r\"$\\sin \\theta$\")\n",
    "plt.xlabel(\"hours since {}\".format(ephem.unix_to_datetime(times[0])))\n",
    "plt.colorbar()\n",
    "plt.title('recovered beam and haslam map')\n",
    "\n",
    "#plt.savefig(\"xtalk_recov_map.png\", dpi=300, bbox_inches='tight')"
   ]
  },
  {
   "cell_type": "code",
   "execution_count": null,
   "metadata": {},
   "outputs": [],
   "source": [
    "plt.imshow(rmap_xtalk_sub.T, aspect='auto', origin='lower', extent=(0, (times[-1]-times[0])/3600, sinza[0], sinza[-1]),\n",
    "          vmax=5000, vmin=-1000)\n",
    "plt.ylabel(r\"$\\sin \\theta$\")\n",
    "plt.xlabel(\"hours since {}\".format(ephem.unix_to_datetime(times[0])))\n",
    "plt.colorbar()\n",
    "plt.title('input map minus recovered crosstalk')\n",
    "\n",
    "#plt.savefig(\"xtalk_cleaned_map.png\", dpi=300, bbox_inches='tight')"
   ]
  },
  {
   "cell_type": "code",
   "execution_count": null,
   "metadata": {},
   "outputs": [],
   "source": [
    "plt.imshow(rmap_xtalk_sub.T - rmap_model.T, aspect='auto', origin='lower', extent=(0, (times[-1]-times[0])/3600, sinza[0], sinza[-1]),\n",
    "          )\n",
    "plt.colorbar()"
   ]
  },
  {
   "cell_type": "code",
   "execution_count": null,
   "metadata": {},
   "outputs": [],
   "source": [
    "vis_input_model = sim_model.get_vis(times, vis_sel,\n",
    "                                    num_pix, max_za, \n",
    "                                    sim_model.beam_sol.max()*np.cos(za)*model_beam(za, fwhm_fudge=0.7))\n",
    "rmap_input_model = np.dot(vis_input_model.T, np.exp(-2j * sinza[np.newaxis,:] * ns_baselines[:,np.newaxis] / wl)).real"
   ]
  },
  {
   "cell_type": "code",
   "execution_count": null,
   "metadata": {},
   "outputs": [],
   "source": [
    "plt.imshow(np.abs(rmap_input_model.T - rmap_xtalk_sub.T), aspect='auto', origin='lower', extent=(0, (times[-1]-times[0])/3600, sinza[0], sinza[-1]),\n",
    "          vmax=2000)\n",
    "plt.colorbar()"
   ]
  },
  {
   "cell_type": "code",
   "execution_count": null,
   "metadata": {},
   "outputs": [],
   "source": [
    "i = 200\n",
    "plt.plot(np.abs(vis_sel[i,time_slice]))\n",
    "plt.plot(np.abs(model_vis[i,:]))"
   ]
  },
  {
   "cell_type": "code",
   "execution_count": null,
   "metadata": {},
   "outputs": [],
   "source": [
    "plt.plot(np.abs(sim_model.xtalk))"
   ]
  },
  {
   "cell_type": "markdown",
   "metadata": {},
   "source": [
    "## Try for many frequencies"
   ]
  },
  {
   "cell_type": "code",
   "execution_count": null,
   "metadata": {},
   "outputs": [],
   "source": [
    "vis[ff,prod_sel,:][:,time_slice].shape"
   ]
  },
  {
   "cell_type": "code",
   "execution_count": null,
   "metadata": {},
   "outputs": [],
   "source": [
    "beam_freq = []\n",
    "xtalk_freq = []\n",
    "for ff in range(0, len(freq), 8):\n",
    "    a_model = ModelVis(freq=freq[ff])\n",
    "    a_model.set_baselines(ns_baselines)\n",
    "    beam_freq.append(\n",
    "        a_model.fit_beam(times[time_slice], vis[ff,prod_sel,:][:,time_slice],\n",
    "                           np.ones((prod_sel.shape[0],len(time_slice))),\n",
    "                           num_pix, max_za=max_za, xtalk_iter=4, resume=False).copy()\n",
    "    )\n",
    "    xtalk_freq.append(a_model.xtalk.copy())"
   ]
  },
  {
   "cell_type": "code",
   "execution_count": null,
   "metadata": {},
   "outputs": [],
   "source": [
    "for ff, b in enumerate(beam_freq):\n",
    "    plt.plot(za, b / b.max(), label=freq[ff*8])\n",
    "plt.legend()\n",
    "plt.plot(za, np.cos(za)*model_beam(za, 0.7), 'k--', linewidth=2)\n",
    "plt.xlabel(r\"\\theta\")\n",
    "\n",
    "plt.savefig(\"beam_multi_freq.pdf\", dpi=300, bbox_inches='tight')"
   ]
  },
  {
   "cell_type": "code",
   "execution_count": null,
   "metadata": {},
   "outputs": [],
   "source": [
    "for ff, b in enumerate(xtalk_freq):\n",
    "    an_rmap = np.dot(b.T, np.exp(-2j * sinza[np.newaxis,:] * ns_baselines[:,np.newaxis] / wl)).real\n",
    "    plt.plot(za, an_rmap, label=freq[ff*8])\n",
    "plt.legend()\n",
    "plt.xlabel(r\"\\theta\")\n",
    "\n",
    "plt.savefig(\"xtalk_multi_freq.pdf\", dpi=300, bbox_inches='tight')"
   ]
  }
 ],
 "metadata": {
  "kernelspec": {
   "display_name": "ch_pipeline_venv",
   "language": "python",
   "name": "ch_pipeline_venv"
  },
  "language_info": {
   "codemirror_mode": {
    "name": "ipython",
    "version": 2
   },
   "file_extension": ".py",
   "mimetype": "text/x-python",
   "name": "python",
   "nbconvert_exporter": "python",
   "pygments_lexer": "ipython2",
   "version": "2.7.14"
  }
 },
 "nbformat": 4,
 "nbformat_minor": 2
}
