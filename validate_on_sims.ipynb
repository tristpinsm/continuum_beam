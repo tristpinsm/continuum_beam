{
 "cells": [
  {
   "cell_type": "code",
   "execution_count": null,
   "metadata": {},
   "outputs": [],
   "source": [
    "import healpy\n",
    "from cora.util import hputil\n",
    "import numpy as np\n",
    "from matplotlib import pyplot as plt\n",
    "from matplotlib import ticker\n",
    "from ch_util import ephemeris as ephem, andata, tools\n",
    "from caput.time import unix_to_skyfield_time\n",
    "import h5py\n",
    "import time\n",
    "from datetime import datetime\n",
    "from glob import glob\n",
    "from ch_pipeline.core import telescope\n",
    "from scipy.optimize import leastsq\n",
    "\n",
    "%load_ext autoreload\n",
    "%autoreload 2\n",
    "\n",
    "from continuum_beam import *\n",
    "\n",
    "%matplotlib inline\n",
    "plt.rcParams.update({'figure.figsize': (16, 12), 'font.size': 20})"
   ]
  },
  {
   "cell_type": "markdown",
   "metadata": {},
   "source": [
    "# Validate fitting scheme on simulated visibilities"
   ]
  },
  {
   "cell_type": "markdown",
   "metadata": {},
   "source": [
    "### Load simulated visibilities"
   ]
  },
  {
   "cell_type": "code",
   "execution_count": null,
   "metadata": {},
   "outputs": [],
   "source": [
    "sim_file = \"/home/tristpinsm/scratch-fast/continuum_beam_data/sstreamgroup_0.h5\""
   ]
  },
  {
   "cell_type": "code",
   "execution_count": null,
   "metadata": {},
   "outputs": [],
   "source": [
    "sim_vis = h5py.File(sim_file, 'r')"
   ]
  },
  {
   "cell_type": "code",
   "execution_count": null,
   "metadata": {},
   "outputs": [],
   "source": [
    "sim_vis.keys()"
   ]
  },
  {
   "cell_type": "code",
   "execution_count": null,
   "metadata": {},
   "outputs": [],
   "source": [
    "freq = sim_vis['index_map']['freq']['centre']"
   ]
  },
  {
   "cell_type": "code",
   "execution_count": null,
   "metadata": {},
   "outputs": [],
   "source": [
    "start_time = time.time()\n",
    "sim_time = np.array([ ephem.transit_times(r, start_time) for r in sim_vis['index_map']['ra'] ])"
   ]
  },
  {
   "cell_type": "code",
   "execution_count": null,
   "metadata": {},
   "outputs": [],
   "source": [
    "plt.plot(sim_time)"
   ]
  },
  {
   "cell_type": "code",
   "execution_count": null,
   "metadata": {},
   "outputs": [],
   "source": [
    "inputs = tools.get_correlator_inputs(datetime.now(), correlator='pathfinder')"
   ]
  },
  {
   "cell_type": "code",
   "execution_count": null,
   "metadata": {},
   "outputs": [],
   "source": [
    "pos = tools.get_feed_positions(inputs)\n",
    "pol = tools.get_feed_polarisations(inputs)"
   ]
  },
  {
   "cell_type": "markdown",
   "metadata": {},
   "source": [
    "### Compare to input beam"
   ]
  },
  {
   "cell_type": "code",
   "execution_count": null,
   "metadata": {},
   "outputs": [],
   "source": [
    "def model_beam(za, fwhm_fudge=0.7, amp=1.):\n",
    "    fwhm = 2.0 * np.pi / 3.0 * fwhm_fudge\n",
    "    \n",
    "    alpha = np.log(2.0) / (2*np.tan(fwhm / 2.0)**2)\n",
    "\n",
    "    return amp * np.exp(-alpha*np.tan(za)**2)"
   ]
  },
  {
   "cell_type": "code",
   "execution_count": null,
   "metadata": {},
   "outputs": [],
   "source": [
    "f_ind = 58  # 408MHz"
   ]
  },
  {
   "cell_type": "code",
   "execution_count": null,
   "metadata": {},
   "outputs": [],
   "source": [
    "sim_model = ModelVis(freq=freq[f_ind])#, fname=\"./lambda_haslam408_dsds.fits\")"
   ]
  },
  {
   "cell_type": "code",
   "execution_count": null,
   "metadata": {},
   "outputs": [],
   "source": [
    "prod_excl = []\n",
    "\n",
    "ns_baselines = (pos[sim_vis['index_map/prod'][:,0],1]\n",
    "                 - pos[sim_vis['index_map/prod'][:,1],1])\n",
    "ew_baselines = (pos[sim_vis['index_map/prod'][:,0],0]\n",
    "                 - pos[sim_vis['index_map/prod'][:,1],0])\n",
    "\n",
    "pol_pair = np.empty(sim_vis['index_map/prod'].shape[0], dtype=[('pol_a', '<U1'), ('pol_b', '<U1')])\n",
    "pol_pair['pol_a'] = pol[sim_vis['index_map/prod'][:,0]]\n",
    "pol_pair['pol_b'] = pol[sim_vis['index_map/prod'][:,1]]\n",
    "\n",
    "# exclude bad channels\n",
    "prod_excl += list(np.where(np.logical_not(np.isfinite(ew_baselines + ns_baselines)))[0])\n",
    "# exclude intercyl\n",
    "prod_excl += list(np.where(np.abs(ew_baselines) > 10.)[0])\n",
    "# exclude autos\n",
    "prod_excl += list(np.where(ns_baselines + ew_baselines == 0)[0])\n",
    "# exclude all but SS pol\n",
    "prod_excl += list(np.where(np.logical_not(np.logical_and(pol_pair['pol_a'] == \"E\",\n",
    "                                                         pol_pair['pol_b'] == \"E\")))[0])\n",
    "# exclude longer baselines\n",
    "prod_excl += list(np.where(np.abs(ns_baselines) > 0.5 * sim_model.wl / sim_model._res())[0])\n",
    "# get unique values\n",
    "prod_excl = set(prod_excl)\n",
    "\n",
    "prod_sel = np.array([ p for p in range(sim_vis['index_map/prod'].shape[0]) if not p in prod_excl ])"
   ]
  },
  {
   "cell_type": "code",
   "execution_count": null,
   "metadata": {},
   "outputs": [],
   "source": [
    "vis = sim_vis['vis'][f_ind, prod_sel, :]\n",
    "ns_baselines = ns_baselines[prod_sel]"
   ]
  },
  {
   "cell_type": "code",
   "execution_count": null,
   "metadata": {},
   "outputs": [],
   "source": [
    "sim_model.set_baselines(ns_baselines)"
   ]
  },
  {
   "cell_type": "code",
   "execution_count": null,
   "metadata": {},
   "outputs": [],
   "source": [
    "for p in range(len(prod_sel)):\n",
    "    if abs(ns_baselines[p]) > 15.:\n",
    "    #if abs(ns_baselines[p]) < 2.:\n",
    "        plt.plot(sim_ra, np.abs(vis[p,:]))\n",
    "plt.plot(sim_ra[time_slice], np.ones_like(time_slice), 'o')\n",
    "plt.vlines(np.degrees(ephem.CasA.ra.radians), *plt.ylim())"
   ]
  },
  {
   "cell_type": "code",
   "execution_count": null,
   "metadata": {},
   "outputs": [],
   "source": [
    "sim_ra = ephem.transit_RA(sim_time)\n",
    "ra_res = (sim_ra[1] - sim_ra[0])[0]"
   ]
  },
  {
   "cell_type": "code",
   "execution_count": null,
   "metadata": {},
   "outputs": [],
   "source": [
    "for src in (ephem.CasA, ephem.CygA, ephem.TauA, ephem.VirA):\n",
    "    print src.names, src.dec, np.degrees(src.ra.radians)"
   ]
  },
  {
   "cell_type": "code",
   "execution_count": null,
   "metadata": {},
   "outputs": [],
   "source": [
    "# exclude point source transits\n",
    "excl_ind = []\n",
    "transit_cut = int(10. / ra_res)\n",
    "for src in (ephem.CasA, ephem.CygA, ephem.TauA, ephem.VirA):\n",
    "    src_ind = np.argmin(np.abs(sim_ra - np.degrees(src.ra.radians)))\n",
    "    cut_ext = max(0, src_ind - transit_cut), min(src_ind + transit_cut, len(sim_ra))\n",
    "    excl_ind += range(*cut_ext)\n",
    "# casA also shows up over the pole\n",
    "src_ind = np.argmin(np.abs(sim_ra - np.degrees(ephem.CasA.ra.radians) + 180.))\n",
    "cut_ext = max(0, src_ind - transit_cut - 10), min(src_ind + transit_cut, len(sim_ra) - 1)\n",
    "excl_ind += range(*cut_ext)\n",
    "# try excluding region chosen by eye\n",
    "excl_ind += range(np.argmin(np.abs(sim_ra - 250.)), np.argmin(np.abs(sim_ra - 300.)))\n",
    "excl_ind = set(excl_ind)"
   ]
  },
  {
   "cell_type": "code",
   "execution_count": null,
   "metadata": {},
   "outputs": [],
   "source": [
    "max_za = 89.\n",
    "# approx resolution for smoothed Haslam\n",
    "approx_res = np.degrees(max(0.5 / np.abs(ns_baselines).max(), sim_model._res()))\n",
    "num_pix = int(2 * max_za / approx_res)\n",
    "za = np.radians(np.linspace(-max_za, max_za, num_pix))\n",
    "#time_slice = slice(test_ind-5, test_ind+5)\n",
    "#time_slice = slice(0, 180)\n",
    "time_slice = np.array([ i for i in range(len(sim_ra)) if not i in excl_ind ])\n",
    "#time_slice = np.arange(len(sim_ra))"
   ]
  },
  {
   "cell_type": "code",
   "execution_count": null,
   "metadata": {},
   "outputs": [],
   "source": [
    "beam_sol = sim_model.fit_beam(sim_time[time_slice], vis[:,time_slice],\n",
    "                               np.ones_like(vis[:,time_slice]),\n",
    "                               num_pix, max_za=max_za, rcond=1e-3)"
   ]
  },
  {
   "cell_type": "code",
   "execution_count": null,
   "metadata": {},
   "outputs": [],
   "source": [
    "plt.plot(za, beam_sol / beam_sol.max())\n",
    "#plt.plot(za, np.cos(za)*model_beam(za, fwhm_fudge=0.7))\n",
    "plt.plot(za, model_beam(za, fwhm_fudge=1.2))\n",
    "plt.xlabel(r\"$\\theta$\")\n",
    "#plt.savefig(\"./sim_beam_sol_NS.pdf\", dpi=300)"
   ]
  },
  {
   "cell_type": "code",
   "execution_count": null,
   "metadata": {},
   "outputs": [],
   "source": [
    "plt.imshow(np.log10(np.abs(sim_model.cov)))\n",
    "plt.colorbar()"
   ]
  },
  {
   "cell_type": "code",
   "execution_count": null,
   "metadata": {},
   "outputs": [],
   "source": [
    "U, S, V = np.linalg.svd(sim_model.M)"
   ]
  },
  {
   "cell_type": "code",
   "execution_count": null,
   "metadata": {},
   "outputs": [],
   "source": [
    "plt.imshow(V.T, aspect='auto')\n",
    "plt.colorbar()"
   ]
  },
  {
   "cell_type": "code",
   "execution_count": null,
   "metadata": {},
   "outputs": [],
   "source": [
    "i = 0"
   ]
  },
  {
   "cell_type": "code",
   "execution_count": null,
   "metadata": {},
   "outputs": [],
   "source": [
    "plt.plot(V[i,:])\n",
    "i += 1"
   ]
  },
  {
   "cell_type": "code",
   "execution_count": null,
   "metadata": {},
   "outputs": [],
   "source": [
    "plt.plot(np.log10(S / S[0]))"
   ]
  },
  {
   "cell_type": "code",
   "execution_count": null,
   "metadata": {},
   "outputs": [],
   "source": [
    "np.linalg.norm(sim_model.M)"
   ]
  },
  {
   "cell_type": "code",
   "execution_count": null,
   "metadata": {},
   "outputs": [],
   "source": [
    "\"{:.3}\".format(np.median(np.abs(sim_model.v)))"
   ]
  },
  {
   "cell_type": "code",
   "execution_count": null,
   "metadata": {},
   "outputs": [],
   "source": [
    "np.linalg.det(sim_model.M / sim_model.M.max())"
   ]
  },
  {
   "cell_type": "code",
   "execution_count": null,
   "metadata": {},
   "outputs": [],
   "source": [
    "np.allclose(np.dot(sim_model.M, Minv), np.dot(Minv, sim_model.M),)"
   ]
  },
  {
   "cell_type": "code",
   "execution_count": null,
   "metadata": {},
   "outputs": [],
   "source": [
    "sim_model.M.shape"
   ]
  },
  {
   "cell_type": "code",
   "execution_count": null,
   "metadata": {},
   "outputs": [],
   "source": [
    "Minv = np.linalg.inv(sim_model.M)"
   ]
  },
  {
   "cell_type": "code",
   "execution_count": null,
   "metadata": {},
   "outputs": [],
   "source": [
    "plt.plot(np.log10(np.linalg.eig(sim_model.M)[0]))"
   ]
  },
  {
   "cell_type": "code",
   "execution_count": null,
   "metadata": {},
   "outputs": [],
   "source": [
    "plt.imshow(np.dot(sim_model.M, Minv) - np.dot(Minv, sim_model.M))\n",
    "plt.colorbar()"
   ]
  },
  {
   "cell_type": "code",
   "execution_count": null,
   "metadata": {},
   "outputs": [],
   "source": [
    "plt.imshow(np.log10(np.abs(np.dot(sim_model.M, Minv))),\n",
    "          extent=(-max_za,max_za,-max_za,max_za))\n",
    "plt.colorbar()"
   ]
  },
  {
   "cell_type": "code",
   "execution_count": null,
   "metadata": {},
   "outputs": [],
   "source": [
    "plt.imshow(np.log10(np.abs(sim_model.M)))\n",
    "plt.colorbar()"
   ]
  },
  {
   "cell_type": "code",
   "execution_count": null,
   "metadata": {},
   "outputs": [],
   "source": [
    "sim_model.ns_baselines[1]"
   ]
  },
  {
   "cell_type": "code",
   "execution_count": null,
   "metadata": {},
   "outputs": [],
   "source": [
    "plt.plot(sim_model._basis[2,0,:])"
   ]
  },
  {
   "cell_type": "markdown",
   "metadata": {},
   "source": [
    "#### Fit for FWHM"
   ]
  },
  {
   "cell_type": "code",
   "execution_count": null,
   "metadata": {},
   "outputs": [],
   "source": [
    "fwhm_fit = leastsq(lambda t: beam_sol / beam_sol.max() - model_beam(za, *t), (1.,1.))"
   ]
  },
  {
   "cell_type": "code",
   "execution_count": null,
   "metadata": {},
   "outputs": [],
   "source": [
    "fwhm_fit[0]"
   ]
  },
  {
   "cell_type": "code",
   "execution_count": null,
   "metadata": {},
   "outputs": [],
   "source": [
    "plt.plot(za, beam_sol / beam_sol.max())\n",
    "plt.plot(za, model_beam(za, *fwhm_fit[0]))"
   ]
  },
  {
   "cell_type": "markdown",
   "metadata": {},
   "source": [
    "#### Look at map slices"
   ]
  },
  {
   "cell_type": "code",
   "execution_count": null,
   "metadata": {},
   "outputs": [],
   "source": [
    "test_ind = 300"
   ]
  },
  {
   "cell_type": "code",
   "execution_count": null,
   "metadata": {},
   "outputs": [],
   "source": [
    "sim_model._gen_basis(sim_time[test_ind:test_ind+1], vis[:,test_ind:test_ind+1],\n",
    "                     num_pix, max_za=max_za)\n",
    "model_basis = sim_model._basis.copy()\n",
    "model_vis = np.sum(model_basis * model_beam(za, fwhm_fudge=0.7) * np.cos(za), axis=2)"
   ]
  },
  {
   "cell_type": "code",
   "execution_count": null,
   "metadata": {},
   "outputs": [],
   "source": [
    "#model_vis = sim_model.get_vis(sim_time[time_slice], vis[:,time_slice],\n",
    "#                              num_pix, max_za=max_za)\n",
    "model_map = np.dot(model_vis[:,0], np.exp(-2j * np.pi * ns_baselines[:,np.newaxis]\n",
    "                                          / sim_model.wl * np.sin(za)[np.newaxis,:]))\n",
    "vis_map = np.dot(vis[:,test_ind], np.exp(-2j * np.pi * ns_baselines[:,np.newaxis]\n",
    "                                    / sim_model.wl * np.sin(za)[np.newaxis,:]))"
   ]
  },
  {
   "cell_type": "code",
   "execution_count": null,
   "metadata": {},
   "outputs": [],
   "source": [
    "plt.subplot(2,1,1)\n",
    "plt.plot(za/np.pi, model_map.real, label=\"Haslam\")\n",
    "plt.gca().yaxis.set_ticklabels([])\n",
    "plt.legend()\n",
    "\n",
    "plt.subplot(2,1,2)\n",
    "plt.plot(za/np.pi, vis_map.real / vis_map.real.max(), label=\"sim\")\n",
    "plt.plot(za/np.pi, model_beam(za))\n",
    "plt.gca().yaxis.set_ticklabels([])\n",
    "plt.legend()\n",
    "\n",
    "plt.xlabel(r\"$\\theta_k/\\pi$\")\n",
    "#yfmt = ticker.ScalarFormatter()\n",
    "#yfmt.set_powerlimits((-2,2))\n",
    "#plt.gca().yaxis.set_major_formatter(yfmt)"
   ]
  },
  {
   "cell_type": "code",
   "execution_count": null,
   "metadata": {},
   "outputs": [],
   "source": [
    "plt.plot(za/np.pi, model_map.real / model_map.real.max(), label=\"Haslam\")\n",
    "plt.plot(za/np.pi, vis_map.real / vis_map.real.max(), label=\"sim\")\n",
    "plt.gca().yaxis.set_ticklabels([])\n",
    "plt.legend()"
   ]
  },
  {
   "cell_type": "markdown",
   "metadata": {},
   "source": [
    "#### Look at model visibilities"
   ]
  },
  {
   "cell_type": "code",
   "execution_count": null,
   "metadata": {},
   "outputs": [],
   "source": [
    "model_vis_all = sim_model.get_vis(sim_time, vis, num_pix,\n",
    "                                  model_beam=lambda x: model_beam(np.radians(x)), max_za=max_za)"
   ]
  },
  {
   "cell_type": "code",
   "execution_count": null,
   "metadata": {},
   "outputs": [],
   "source": [
    "for p in range(len(prod_sel)):\n",
    "    if abs(ns_baselines[p]) > 18.:\n",
    "        plt.plot(sim_ra, np.abs(model_vis_all[p,:]))\n",
    "plt.yscale('log')\n",
    "plt.plot(sim_ra[time_slice], np.ones_like(time_slice), 'o')\n",
    "plt.vlines(np.degrees(ephem.VirA.ra.radians), *plt.ylim())"
   ]
  },
  {
   "cell_type": "code",
   "execution_count": null,
   "metadata": {},
   "outputs": [],
   "source": [
    "for p in range(len(prod_sel)):\n",
    "    plt.plot(sim_ra[time_slice], np.abs(vis[p,time_slice]), '.')\n",
    "#plt.plot(sim_ra[time_slice], np.ones_like(time_slice), 'o')\n",
    "plt.vlines(np.degrees(ephem.VirA.ra.radians), *plt.ylim())"
   ]
  },
  {
   "cell_type": "code",
   "execution_count": null,
   "metadata": {},
   "outputs": [],
   "source": [
    "for p in range(len(prod_sel)):\n",
    "    plt.plot(sim_ra, np.abs(vis[p,:]))\n",
    "plt.plot(sim_ra[time_slice], np.ones_like(time_slice), 'o')\n",
    "plt.vlines(np.degrees(ephem.VirA.ra.radians), *plt.ylim())"
   ]
  },
  {
   "cell_type": "markdown",
   "metadata": {},
   "source": [
    "## SVD the design matrix"
   ]
  },
  {
   "cell_type": "code",
   "execution_count": null,
   "metadata": {},
   "outputs": [],
   "source": [
    "svd_model = ModelVis(freq=freq[f_ind])"
   ]
  },
  {
   "cell_type": "code",
   "execution_count": null,
   "metadata": {},
   "outputs": [],
   "source": [
    "svd_prod_excl = []\n",
    "\n",
    "svd_ns_baselines = (pos[sim_vis['index_map/prod'][:,0],1]\n",
    "                    - pos[sim_vis['index_map/prod'][:,1],1])\n",
    "svd_ew_baselines = (pos[sim_vis['index_map/prod'][:,0],0]\n",
    "                    - pos[sim_vis['index_map/prod'][:,1],0])\n",
    "\n",
    "# exclude bad channels\n",
    "svd_prod_excl += list(np.where(np.logical_not(np.isfinite(svd_ew_baselines + svd_ns_baselines)))[0])\n",
    "# exclude intercyl\n",
    "svd_prod_excl += list(np.where(np.abs(svd_ew_baselines) > 10.)[0])\n",
    "# exclude autos\n",
    "svd_prod_excl += list(np.where(svd_ns_baselines + svd_ew_baselines == 0)[0])\n",
    "# exclude all but SS pol\n",
    "svd_prod_excl += list(np.where(np.logical_not(np.logical_and(pol_pair['pol_a'] == \"S\",\n",
    "                                                             pol_pair['pol_b'] == \"S\")))[0])\n",
    "# exclude longer baselines\n",
    "svd_prod_excl += list(np.where(np.abs(ns_baselines) > 14.)[0])\n",
    "# get unique values\n",
    "svd_prod_excl = set(svd_prod_excl)\n",
    "\n",
    "svd_prod_sel = np.array([ p for p in range(sim_vis['index_map/prod'].shape[0]) if not p in svd_prod_excl ])"
   ]
  },
  {
   "cell_type": "code",
   "execution_count": null,
   "metadata": {},
   "outputs": [],
   "source": [
    "svd_model.set_baselines(svd_ns_baselines[svd_prod_sel])"
   ]
  },
  {
   "cell_type": "code",
   "execution_count": null,
   "metadata": {},
   "outputs": [],
   "source": [
    "svd_vis = sim_vis['vis'][f_ind, svd_prod_sel, :]"
   ]
  },
  {
   "cell_type": "code",
   "execution_count": null,
   "metadata": {},
   "outputs": [],
   "source": [
    "svd_max_za = 89.\n",
    "# approx resolution for smoothed Haslam\n",
    "svd_fwhm_smoothing = np.degrees(2 * np.sqrt(2*np.log(2)) * svd_model._res())\n",
    "svd_num_pix = int(2. * svd_max_za / svd_fwhm_smoothing)\n",
    "svd_za = np.radians(np.linspace(-svd_max_za, svd_max_za, svd_num_pix))\n",
    "\n",
    "svd_time_slice = time_slice[::30]\n",
    "svd_time_slice_nghb = time_slice[:10]\n",
    "\n",
    "svd_time_slice = time_slice[200:201]\n",
    "\n",
    "svd_model._gen_basis(sim_time[svd_time_slice], svd_vis[:,svd_time_slice], svd_num_pix, svd_max_za)\n",
    "svd_basis = svd_model._basis.copy()\n",
    "\n",
    "svd_model._gen_basis(sim_time[svd_time_slice_nghb], svd_vis[:,svd_time_slice_nghb], svd_num_pix, svd_max_za)\n",
    "svd_basis_nghb = svd_model._basis.copy()"
   ]
  },
  {
   "cell_type": "code",
   "execution_count": null,
   "metadata": {},
   "outputs": [],
   "source": [
    "svd_basis = svd_basis.reshape(svd_vis.shape[0]*len(svd_time_slice), svd_num_pix)\n",
    "svd_basis = np.vstack((svd_basis, svd_basis.conj()))\n",
    "\n",
    "svd_basis_nghb = svd_basis_nghb.reshape(svd_vis.shape[0]*len(svd_time_slice_nghb), svd_num_pix)\n",
    "svd_basis_nghb = np.vstack((svd_basis_nghb, svd_basis_nghb.conj()))"
   ]
  },
  {
   "cell_type": "code",
   "execution_count": null,
   "metadata": {},
   "outputs": [],
   "source": [
    "trash = svd_model.fit_beam(sim_time[svd_time_slice], svd_vis[:,svd_time_slice],\n",
    "                               np.ones_like(svd_vis[:,svd_time_slice]),\n",
    "                               svd_num_pix, max_za=svd_max_za)\n",
    "del trash"
   ]
  },
  {
   "cell_type": "code",
   "execution_count": null,
   "metadata": {},
   "outputs": [],
   "source": [
    "U, S, V = np.linalg.svd(svd_basis, full_matrices=False)\n",
    "Un, Sn, Vn = np.linalg.svd(svd_basis_nghb, full_matrices=False)\n",
    "Um, Sm, Vm = np.linalg.svd(svd_model.M, full_matrices=False)"
   ]
  },
  {
   "cell_type": "code",
   "execution_count": null,
   "metadata": {},
   "outputs": [],
   "source": [
    "np.sqrt(np.mean((np.dot(V.T.astype(np.complex128), np.dot(np.diag(S**2),V.astype(np.complex128))).real\n",
    "            - svd_model.M)**2)) / np.mean(svd_model.M)"
   ]
  },
  {
   "cell_type": "code",
   "execution_count": null,
   "metadata": {},
   "outputs": [],
   "source": [
    "plt.imshow(np.log10(np.abs(np.dot(U.T.conj(), U))), aspect='auto')\n",
    "plt.colorbar()"
   ]
  },
  {
   "cell_type": "code",
   "execution_count": null,
   "metadata": {},
   "outputs": [],
   "source": [
    "print np.sqrt(np.mean((svd_model.M - np.dot(V.astype(np.complex128).T.conj(), np.dot(np.diag(S**2),V)).real\n",
    "                       / 2.)**2)) / np.mean(svd_model.M)"
   ]
  },
  {
   "cell_type": "code",
   "execution_count": null,
   "metadata": {},
   "outputs": [],
   "source": [
    "print np.mean(svd_model.M)\n",
    "print np.mean(np.dot(V.astype(np.complex128).T.conj(), np.dot(np.diag(S**2),V)).real / 2.)"
   ]
  },
  {
   "cell_type": "code",
   "execution_count": null,
   "metadata": {},
   "outputs": [],
   "source": [
    "plt.subplot(1,2,1)\n",
    "plt.imshow(np.abs(V.T[:,:]), aspect='auto')\n",
    "plt.title(\"22 times spaced by 30 indices\")\n",
    "plt.colorbar()\n",
    "\n",
    "plt.subplot(1,2,2)\n",
    "plt.imshow(np.abs(Vm.T[:,:]), aspect='auto')\n",
    "plt.title(\"M\")\n",
    "plt.colorbar()"
   ]
  },
  {
   "cell_type": "code",
   "execution_count": null,
   "metadata": {},
   "outputs": [],
   "source": [
    "plt.plot(S / S[0], label=\"10 times spaced by 60 indices\")\n",
    "plt.plot(Sn / Sn[0], label=\"10 contiguous times\")\n",
    "plt.plot(np.sqrt(Sm / Sm[0]), label=\"M\")\n",
    "plt.yscale('log')\n",
    "plt.legend()"
   ]
  },
  {
   "cell_type": "code",
   "execution_count": null,
   "metadata": {},
   "outputs": [],
   "source": [
    "plt.subplot(1,2,1)\n",
    "plt.imshow(np.abs(U[:100,:]), aspect='auto')\n",
    "plt.title(\"10 times spaced by 60 indices\")\n",
    "\n",
    "plt.subplot(1,2,2)\n",
    "plt.imshow(np.abs(Un[:100,:]), aspect='auto')\n",
    "plt.title(\"10 contiguous times\")\n",
    "#plt.colorbar()"
   ]
  },
  {
   "cell_type": "code",
   "execution_count": null,
   "metadata": {},
   "outputs": [],
   "source": [
    "plt.subplot(1,2,1)\n",
    "plt.imshow(np.abs(V), aspect='auto')\n",
    "plt.title(\"10 times spaced by 60 indices\")\n",
    "\n",
    "plt.subplot(1,2,2)\n",
    "plt.imshow(np.abs(Vn), aspect='auto')\n",
    "plt.title(\"10 contiguous times\")\n",
    "#plt.colorbar()"
   ]
  },
  {
   "cell_type": "code",
   "execution_count": null,
   "metadata": {},
   "outputs": [],
   "source": [
    "plt.subplot(1,2,1)\n",
    "svd_cov_wgt = np.diag(1./S**2)\n",
    "svd_cov_wgt[np.where(S/S[0] < 5e-2)] = 0.\n",
    "plt.imshow(np.log10(np.abs(np.dot(V, np.dot(svd_cov_wgt, V.T)).real)), aspect='auto')\n",
    "plt.title('covariance')\n",
    "plt.colorbar()\n",
    "\n",
    "plt.subplot(1,2,2)\n",
    "plt.imshow(np.log10(np.abs(svd_model.M)), aspect='auto')\n",
    "plt.title('M')\n",
    "plt.colorbar()"
   ]
  },
  {
   "cell_type": "code",
   "execution_count": null,
   "metadata": {},
   "outputs": [],
   "source": [
    "for i in range(1):\n",
    "    plt.plot(Vn[:,i].real)"
   ]
  },
  {
   "cell_type": "code",
   "execution_count": null,
   "metadata": {},
   "outputs": [],
   "source": [
    "svd_weight = 1. / S\n",
    "svd_weight[np.where(S / S[0] < 5e-2)] = 0.\n",
    "svd_inv = np.dot(V.T, np.dot(np.diag(svd_weight), U.T.conj()))"
   ]
  },
  {
   "cell_type": "code",
   "execution_count": null,
   "metadata": {},
   "outputs": [],
   "source": [
    "plt.plot(svd_weight)"
   ]
  },
  {
   "cell_type": "code",
   "execution_count": null,
   "metadata": {},
   "outputs": [],
   "source": [
    "svd_vis_full = svd_vis[:,svd_time_slice].reshape(svd_vis.shape[0]*len(svd_time_slice))\n",
    "svd_vis_full = np.hstack((svd_vis_full, svd_vis_full.conj()))\n",
    "svd_sol = np.dot(svd_inv, svd_vis_full)"
   ]
  },
  {
   "cell_type": "code",
   "execution_count": null,
   "metadata": {},
   "outputs": [],
   "source": [
    "plt.plot(svd_sol)"
   ]
  }
 ],
 "metadata": {
  "kernelspec": {
   "display_name": "ch_pipeline_venv",
   "language": "python",
   "name": "ch_pipeline_venv"
  },
  "language_info": {
   "codemirror_mode": {
    "name": "ipython",
    "version": 2
   },
   "file_extension": ".py",
   "mimetype": "text/x-python",
   "name": "python",
   "nbconvert_exporter": "python",
   "pygments_lexer": "ipython2",
   "version": "2.7.14"
  }
 },
 "nbformat": 4,
 "nbformat_minor": 2
}
