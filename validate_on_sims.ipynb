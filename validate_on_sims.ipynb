{
 "cells": [
  {
   "cell_type": "code",
   "execution_count": null,
   "metadata": {},
   "outputs": [],
   "source": [
    "import healpy\n",
    "from cora.util import hputil\n",
    "import numpy as np\n",
    "from matplotlib import pyplot as plt\n",
    "from matplotlib import ticker\n",
    "from ch_util import ephemeris as ephem, andata, tools\n",
    "from caput.time import unix_to_skyfield_time\n",
    "import h5py\n",
    "import time\n",
    "from datetime import datetime\n",
    "from glob import glob\n",
    "from ch_pipeline.core import telescope\n",
    "from scipy.optimize import leastsq\n",
    "\n",
    "%load_ext autoreload\n",
    "%autoreload 2\n",
    "\n",
    "from continuum_beam import *\n",
    "\n",
    "%matplotlib inline\n",
    "plt.rcParams.update({'figure.figsize': (16, 12), 'font.size': 20})"
   ]
  },
  {
   "cell_type": "markdown",
   "metadata": {},
   "source": [
    "# Validate fitting scheme on simulated visibilities"
   ]
  },
  {
   "cell_type": "markdown",
   "metadata": {},
   "source": [
    "### Load simulated visibilities"
   ]
  },
  {
   "cell_type": "code",
   "execution_count": null,
   "metadata": {},
   "outputs": [],
   "source": [
    "sim_file = \"/home/tristpinsm/scratch-fast/continuum_beam_data/sstreamgroup_0.h5\""
   ]
  },
  {
   "cell_type": "code",
   "execution_count": null,
   "metadata": {},
   "outputs": [],
   "source": [
    "sim_vis = h5py.File(sim_file, 'r')"
   ]
  },
  {
   "cell_type": "code",
   "execution_count": null,
   "metadata": {},
   "outputs": [],
   "source": [
    "sim_vis.keys()"
   ]
  },
  {
   "cell_type": "code",
   "execution_count": null,
   "metadata": {},
   "outputs": [],
   "source": [
    "freq = sim_vis['index_map']['freq']['centre']"
   ]
  },
  {
   "cell_type": "code",
   "execution_count": null,
   "metadata": {},
   "outputs": [],
   "source": [
    "start_time = time.time()\n",
    "sim_time = np.array([ ephem.transit_times(r, start_time) for r in sim_vis['index_map']['ra'] ])"
   ]
  },
  {
   "cell_type": "code",
   "execution_count": null,
   "metadata": {},
   "outputs": [],
   "source": [
    "plt.plot(sim_time)"
   ]
  },
  {
   "cell_type": "code",
   "execution_count": null,
   "metadata": {},
   "outputs": [],
   "source": [
    "inputs = tools.get_correlator_inputs(datetime.now(), correlator='pathfinder')"
   ]
  },
  {
   "cell_type": "code",
   "execution_count": null,
   "metadata": {},
   "outputs": [],
   "source": [
    "pos = tools.get_feed_positions(inputs)\n",
    "pol = tools.get_feed_polarisations(inputs)"
   ]
  },
  {
   "cell_type": "code",
   "execution_count": null,
   "metadata": {},
   "outputs": [],
   "source": [
    "prod_excl = []\n",
    "\n",
    "ns_baselines = (pos[sim_vis['index_map/prod'][:,0],1]\n",
    "                 - pos[sim_vis['index_map/prod'][:,1],1])\n",
    "ew_baselines = (pos[sim_vis['index_map/prod'][:,0],0]\n",
    "                 - pos[sim_vis['index_map/prod'][:,1],0])\n",
    "\n",
    "pol_pair = np.empty(sim_vis['index_map/prod'].shape[0], dtype=[('pol_a', '<U1'), ('pol_b', '<U1')])\n",
    "pol_pair['pol_a'] = pol[sim_vis['index_map/prod'][:,0]]\n",
    "pol_pair['pol_b'] = pol[sim_vis['index_map/prod'][:,1]]\n",
    "\n",
    "# exclude bad channels\n",
    "prod_excl += list(np.where(np.logical_not(np.isfinite(ew_baselines + ns_baselines)))[0])\n",
    "# exclude intercyl\n",
    "prod_excl += list(np.where(np.abs(ew_baselines) > 5.)[0])\n",
    "# exclude autos\n",
    "prod_excl += list(np.where(ns_baselines + ew_baselines == 0)[0])\n",
    "# exclude all but SS pol\n",
    "prod_excl += list(np.where(np.logical_not(np.logical_and(pol_pair['pol_a'] == \"S\",\n",
    "                                                         pol_pair['pol_b'] == \"S\")))[0])\n",
    "\n",
    "# get unique values\n",
    "prod_excl = set(prod_excl)\n",
    "\n",
    "prod_sel = np.array([ p for p in range(sim_vis['index_map/prod'].shape[0]) if not p in prod_excl ])"
   ]
  },
  {
   "cell_type": "markdown",
   "metadata": {},
   "source": [
    "### Compare to input beam"
   ]
  },
  {
   "cell_type": "code",
   "execution_count": null,
   "metadata": {},
   "outputs": [],
   "source": [
    "path = telescope.CHIME.from_layout(datetime.now(), correlator='pathfinder')"
   ]
  },
  {
   "cell_type": "code",
   "execution_count": null,
   "metadata": {},
   "outputs": [],
   "source": [
    "def model_beam(za, fwhm_fudge=0.7):\n",
    "    fwhm = 2.0 * np.pi / 3.0 * fwhm_fudge\n",
    "    \n",
    "    alpha = np.log(2.0) / (2*np.tan(fwhm / 2.0)**2)\n",
    "\n",
    "    return np.exp(-alpha*np.tan(za)**2)"
   ]
  },
  {
   "cell_type": "code",
   "execution_count": null,
   "metadata": {},
   "outputs": [],
   "source": [
    "f_ind = 58  # 408MHz\n",
    "vis = sim_vis['vis'][f_ind, prod_sel, :]\n",
    "ns_baselines = ns_baselines[prod_sel]"
   ]
  },
  {
   "cell_type": "code",
   "execution_count": null,
   "metadata": {},
   "outputs": [],
   "source": [
    "sim_model = ModelVis(freq=freq[f_ind])"
   ]
  },
  {
   "cell_type": "code",
   "execution_count": null,
   "metadata": {},
   "outputs": [],
   "source": [
    "sim_model.set_baselines(ns_baselines)"
   ]
  },
  {
   "cell_type": "code",
   "execution_count": null,
   "metadata": {},
   "outputs": [],
   "source": [
    "pos[sim_vis['index_map/prod'][prod_sel[0]]]"
   ]
  },
  {
   "cell_type": "code",
   "execution_count": null,
   "metadata": {},
   "outputs": [],
   "source": [
    "for p in range(len(prod_sel)):\n",
    "    plt.plot(np.abs(vis[p,:]))"
   ]
  },
  {
   "cell_type": "code",
   "execution_count": null,
   "metadata": {},
   "outputs": [],
   "source": [
    "np.degrees(2 * np.sqrt(2*np.log(2)) * sim_model._res())"
   ]
  },
  {
   "cell_type": "code",
   "execution_count": null,
   "metadata": {},
   "outputs": [],
   "source": [
    "max_za = 80.\n",
    "# approx resolution for smoothed Haslam\n",
    "fwhm_smoothing = np.degrees(2 * np.sqrt(2*np.log(2)) * sim_model._res())\n",
    "num_pix = 2 * int(2 * max_za / fwhm_smoothing)\n",
    "za = np.radians(np.linspace(-max_za, max_za, num_pix))\n",
    "#time_slice = slice(test_ind-5, test_ind+5)\n",
    "time_slice = slice(0,700)"
   ]
  },
  {
   "cell_type": "code",
   "execution_count": null,
   "metadata": {},
   "outputs": [],
   "source": [
    "beam_sol = sim_model.fit_beam(sim_time[time_slice], vis[:,time_slice],\n",
    "                               np.ones_like(vis[:,time_slice]),\n",
    "                               num_pix, max_za=max_za, rcond=1e-6)"
   ]
  },
  {
   "cell_type": "code",
   "execution_count": null,
   "metadata": {},
   "outputs": [],
   "source": [
    "plt.plot(za, beam_sol / beam_sol.max())\n",
    "plt.plot(za, np.cos(za)*model_beam(za, fwhm_fudge=0.7))"
   ]
  },
  {
   "cell_type": "code",
   "execution_count": null,
   "metadata": {},
   "outputs": [],
   "source": [
    "U, S, V = np.linalg.svd(sim_model.M)"
   ]
  },
  {
   "cell_type": "code",
   "execution_count": null,
   "metadata": {},
   "outputs": [],
   "source": [
    "plt.plot(np.log10(S / S[0]))"
   ]
  },
  {
   "cell_type": "code",
   "execution_count": null,
   "metadata": {},
   "outputs": [],
   "source": [
    "plt.imshow(np.log10(np.abs(np.dot(np.linalg.pinv(sim_model.M), sim_model.M))),\n",
    "          extent=(-max_za,max_za,-max_za,max_za))\n",
    "plt.colorbar()"
   ]
  },
  {
   "cell_type": "markdown",
   "metadata": {},
   "source": [
    "#### Fit for FWHM"
   ]
  },
  {
   "cell_type": "code",
   "execution_count": null,
   "metadata": {},
   "outputs": [],
   "source": [
    "fwhm_fit = leastsq(lambda t: beam_sol / beam_sol.max() - model_beam(za, t), 1.)"
   ]
  },
  {
   "cell_type": "code",
   "execution_count": null,
   "metadata": {},
   "outputs": [],
   "source": [
    "fwhm_fit[0][0]"
   ]
  },
  {
   "cell_type": "code",
   "execution_count": null,
   "metadata": {},
   "outputs": [],
   "source": [
    "plt.plot(za, beam_sol / beam_sol.max())\n",
    "plt.plot(za, model_beam(za, fwhm_fit[0][0]))"
   ]
  },
  {
   "cell_type": "markdown",
   "metadata": {},
   "source": [
    "#### Look at map slices"
   ]
  },
  {
   "cell_type": "code",
   "execution_count": null,
   "metadata": {},
   "outputs": [],
   "source": [
    "sim_model._gen_basis(sim_time[time_slice], vis[:,time_slice],\n",
    "                     num_pix, max_za=max_za)\n",
    "model_basis = sim_model._basis.copy()\n",
    "model_vis = np.sum(model_basis * model_beam(za), axis=2)"
   ]
  },
  {
   "cell_type": "code",
   "execution_count": null,
   "metadata": {},
   "outputs": [],
   "source": [
    "#model_vis = sim_model.get_vis(sim_time[time_slice], vis[:,time_slice],\n",
    "#                              num_pix, max_za=max_za)\n",
    "model_map = np.dot(model_vis[:,0], np.exp(-2j * np.pi * ns_baselines[:,np.newaxis]\n",
    "                                          / sim_model.wl * np.sin(za)[np.newaxis,:]))\n",
    "vis_map = np.dot(vis[:,test_ind], np.exp(-2j * np.pi * ns_baselines[:,np.newaxis]\n",
    "                                    / sim_model.wl * np.sin(za)[np.newaxis,:]))"
   ]
  },
  {
   "cell_type": "code",
   "execution_count": null,
   "metadata": {},
   "outputs": [],
   "source": [
    "plt.subplot(2,1,1)\n",
    "plt.plot(za/np.pi, model_map.real, label=\"Haslam\")\n",
    "plt.gca().yaxis.set_ticklabels([])\n",
    "plt.legend()\n",
    "\n",
    "plt.subplot(2,1,2)\n",
    "plt.plot(za/np.pi, vis_map.real / vis_map.real.max(), label=\"sim\")\n",
    "plt.plot(za/np.pi, model_beam(za))\n",
    "plt.gca().yaxis.set_ticklabels([])\n",
    "plt.legend()\n",
    "\n",
    "plt.xlabel(r\"$\\theta_k/\\pi$\")\n",
    "#yfmt = ticker.ScalarFormatter()\n",
    "#yfmt.set_powerlimits((-2,2))\n",
    "#plt.gca().yaxis.set_major_formatter(yfmt)"
   ]
  }
 ],
 "metadata": {
  "kernelspec": {
   "display_name": "continuum_beam",
   "language": "python",
   "name": "continuum_beam"
  },
  "language_info": {
   "codemirror_mode": {
    "name": "ipython",
    "version": 2
   },
   "file_extension": ".py",
   "mimetype": "text/x-python",
   "name": "python",
   "nbconvert_exporter": "python",
   "pygments_lexer": "ipython2",
   "version": "2.7.12"
  }
 },
 "nbformat": 4,
 "nbformat_minor": 2
}
