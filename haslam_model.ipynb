{
 "cells": [
  {
   "cell_type": "code",
   "execution_count": null,
   "metadata": {},
   "outputs": [],
   "source": [
    "import healpy\n",
    "import numpy as np\n",
    "from matplotlib import pyplot as plt\n",
    "from ch_util import ephemeris as ephem\n",
    "from caput.time import unix_to_skyfield_time\n",
    "import h5py\n",
    "import time\n",
    "\n",
    "%matplotlib inline\n",
    "plt.rcParams.update({'figure.figsize': (16, 12), 'font.size': 16})"
   ]
  },
  {
   "cell_type": "code",
   "execution_count": null,
   "metadata": {},
   "outputs": [],
   "source": [
    "haslam_dsds = healpy.fitsfunc.read_map(\"./lambda_haslam408_dsds.fits\")\n",
    "haslam_nofilt = healpy.fitsfunc.read_map(\"./lambda_haslam408_nofilt.fits\")"
   ]
  },
  {
   "cell_type": "code",
   "execution_count": null,
   "metadata": {},
   "outputs": [],
   "source": [
    "healpy.visufunc.mollview(haslam_dsds)\n",
    "plt.savefig(\"/home/tristpinsm/plots/haslam_dsds.pdf\", dpi=300)"
   ]
  },
  {
   "cell_type": "code",
   "execution_count": null,
   "metadata": {},
   "outputs": [],
   "source": [
    "healpy.visufunc.mollview(healpy.sphtfunc.smoothing(haslam_dsds, sigma=3e2/408./20./1.95))\n",
    "plt.savefig(\"/home/tristpinsm/plots/haslam_dsds_smooth.pdf\", dpi=300)"
   ]
  },
  {
   "cell_type": "code",
   "execution_count": null,
   "metadata": {},
   "outputs": [],
   "source": [
    "healpy.visufunc.mollview(haslam_nofilt)"
   ]
  },
  {
   "cell_type": "code",
   "execution_count": null,
   "metadata": {},
   "outputs": [],
   "source": [
    "np.sqrt(haslam_dsds.shape[0]/12)"
   ]
  },
  {
   "cell_type": "code",
   "execution_count": null,
   "metadata": {},
   "outputs": [],
   "source": [
    "class ModelVis(object):\n",
    "    c = 2.99792458e2\n",
    "    \n",
    "    def __init__(self, fname=\"./lambda_haslam408_dsds.fits\", freq=408.):\n",
    "        # observed frequency\n",
    "        self.freq = freq\n",
    "        self.wl = self.c / freq\n",
    "\n",
    "        # smooth map using CHIME EW primary beam\n",
    "        self.basemap = healpy.fitsfunc.read_map(fname)\n",
    "        self.nside = int((self.basemap.shape[0]/12)**0.5)\n",
    "        self.smoothmap = healpy.sphtfunc.smoothing(self.basemap, sigma=self._res())\n",
    "        \n",
    "        # get an observer at CHIME\n",
    "        self.obs = ephem.chime_observer().skyfield_obs()\n",
    "\n",
    "    def set_baselines(self, baselines=None):\n",
    "        if type(baselines) is np.ndarray:\n",
    "            self.ns_baselines = baselines\n",
    "        elif type(baselines) is int or type(baselines) is float:\n",
    "            # generate them\n",
    "            pass\n",
    "\n",
    "    def get_vis(self, times, vis, n, max_za=90.):\n",
    "        # use this to check/visualize model\n",
    "        self._gen_basis(times, vis, n, max_za)\n",
    "        return np.sum(self._basis, axis=2)\n",
    "    \n",
    "        \n",
    "    def fit_beam(self, times, vis, weight, n, max_za=90., return_basis=False):\n",
    "        # generate model basis\n",
    "        self._gen_basis(times, n, max_za)\n",
    "        # construct least squares equation\n",
    "        # take the real part since we omit the lower half of the vis matrix\n",
    "        M = np.sum(np.matmul(self._basis[:,:,:,np.newaxis], self._basis[:,:,np.newaxis,:]).real\n",
    "                   * weight[:,:,np.newaxis,np.newaxis], axis=(0,1))\n",
    "        v = np.sum(((vis * weight)[:,:,np.newaxis] * self._basis).real, axis=(0,1))\n",
    "        # return solution\n",
    "        return np.dot(np.linalg.inv(M), v)\n",
    "        \n",
    "    def _gen_basis(self, times, vis, n, max_za=90.):\n",
    "        # evaluate Haslam map at n declinations and all times\n",
    "        za = np.linspace(-max_za, max_za, n)\n",
    "        az = np.zeros_like(alt)\n",
    "        az[:n/2] = 180.\n",
    "        alt = 90. - np.cos(np.radians(az)) * za\n",
    "        self.za = za\n",
    "        self._basis = np.zeros((vis.shape[0], vis.shape[1], za.shape[0]), dtype=np.complex64)\n",
    "        phases = self._fringe_phase(za)\n",
    "        for i, t in enumerate(times):\n",
    "            sf_t = unix_to_skyfield_time(t)\n",
    "            pos = self.obs.at(sf_t).from_altaz(az_degrees=az, alt_degrees=alt)\n",
    "            gallat, gallon = pos.galactic_latlon()[:2]\n",
    "            pix = healpy.ang2pix(self.nside, gallat.radians, gallon.radians, lonlat=True)\n",
    "            self._basis[:,i,:] = self.smoothmap[pix] * np.exp(1j * phases)\n",
    "    \n",
    "    def _res(self):\n",
    "        # match FWHM of sinc for 20m aperture\n",
    "        return self.wl / 20. / 1.95\n",
    "    \n",
    "    def _fringe_phase(self, za):\n",
    "        return 2 * np.pi * self.ns_baselines[:,np.newaxis] / self.wl * np.sin(np.radians(za))[np.newaxis,:]"
   ]
  },
  {
   "cell_type": "code",
   "execution_count": null,
   "metadata": {},
   "outputs": [],
   "source": [
    "with h5py.File(\"/mnt/gong/archive/20180911T015826Z_chimeN2_corr/00004896_0000.h5\") as fh:\n",
    "    f_ind = np.argmin(np.abs(408. - fh['index_map/freq']['centre']))\n",
    "    vis = fh['vis'][f_ind,:,0:1]\n",
    "    weight = fh['flags/vis_weight'][f_ind,:,0:1]\n",
    "    times = fh['index_map/time']['ctime'][0:1]\n",
    "    gains = fh['gain'][f_ind,:,0:1]\n",
    "    #stack_prods = fh['index_map/stack']['prod']\n",
    "    #b = ((fh['index_map/prod']['input_b'][stack_prods] / 512).astype(float)\n",
    "    #      - fh['index_map/prod']['input_a'][stack_prods] / 512) * 0.3\n",
    "    b = ((fh['index_map/prod']['input_b'] % 256).astype(float)\n",
    "         - fh['index_map/prod']['input_a'] % 256) * 0.3\n",
    "    autos_ind = np.where(fh['index_map/prod']['input_b'][stack_prods]\n",
    "                         == fh['index_map/prod']['input_a'][stack_prods])\n",
    "# TODO: apply gains"
   ]
  },
  {
   "cell_type": "code",
   "execution_count": null,
   "metadata": {},
   "outputs": [],
   "source": [
    "# apply gains\n",
    "vis[:,0] *= np.outer(gains[:,0], gains[:,0].conj())[np.triu_indices(2048)]"
   ]
  },
  {
   "cell_type": "code",
   "execution_count": null,
   "metadata": {},
   "outputs": [],
   "source": [
    "vis[autos_ind,:] = 0."
   ]
  },
  {
   "cell_type": "code",
   "execution_count": null,
   "metadata": {},
   "outputs": [],
   "source": [
    "test_model = ModelVis()"
   ]
  },
  {
   "cell_type": "code",
   "execution_count": null,
   "metadata": {},
   "outputs": [],
   "source": [
    "test_model.set_baselines(b)"
   ]
  },
  {
   "cell_type": "code",
   "execution_count": null,
   "metadata": {},
   "outputs": [],
   "source": [
    "test_vis = test_model.get_vis(times, vis, 40)"
   ]
  },
  {
   "cell_type": "code",
   "execution_count": null,
   "metadata": {},
   "outputs": [],
   "source": [
    "test_vis"
   ]
  },
  {
   "cell_type": "code",
   "execution_count": null,
   "metadata": {},
   "outputs": [],
   "source": [
    "vis_mat = np.zeros((2048, 2048), dtype=np.complex64)\n",
    "vis_mat[np.triu_indices(2048)] = test_vis[:,0]\n",
    "plt.imshow(np.abs(vis_mat), aspect='equal', cmap='magma')\n",
    "plt.colorbar()\n",
    "plt.savefig(\"../plots/haslam_mock_vis.pdf\", dpi=300)"
   ]
  },
  {
   "cell_type": "code",
   "execution_count": null,
   "metadata": {},
   "outputs": [],
   "source": [
    "test_soln = test_model.fit_beam(times, vis, weight, 40)"
   ]
  },
  {
   "cell_type": "code",
   "execution_count": null,
   "metadata": {},
   "outputs": [],
   "source": [
    "plt.plot(test_soln)\n",
    "plt.ylim((-1e9,1e9))"
   ]
  },
  {
   "cell_type": "markdown",
   "metadata": {},
   "source": [
    "### Sanity check haslam visibilities"
   ]
  },
  {
   "cell_type": "code",
   "execution_count": null,
   "metadata": {},
   "outputs": [],
   "source": [
    "plt.plot(ns_baselines, '.')"
   ]
  },
  {
   "cell_type": "code",
   "execution_count": null,
   "metadata": {},
   "outputs": [],
   "source": [
    "num_t = 4096\n",
    "num_pix = 512\n",
    "times = np.linspace(0, 3600. * 24, 4096) + time.time()\n",
    "test_vis = np.zeros((256*257/2, num_t), dtype=np.complex64)\n",
    "ns_baselines = (np.arange(256)[np.newaxis,:] - np.arange(256)[:,np.newaxis]).astype(float)[np.triu_indices(256)]\n",
    "test_model = ModelVis()\n",
    "test_model.set_baselines(ns_baselines)\n",
    "for t in range(num_t/64):\n",
    "    t_slice = slice(t*64, (t+1)*64)\n",
    "    test_vis[:,t_slice] = test_model.get_vis(times[t_slice], test_vis[:,t_slice], num_pix)"
   ]
  },
  {
   "cell_type": "code",
   "execution_count": null,
   "metadata": {},
   "outputs": [],
   "source": [
    "# back into a map\n",
    "test_map = np.zeros((num_t, num_pix), dtype=np.complex64)\n",
    "test_za = np.radians(np.linspace(-90, 90, num_pix))\n",
    "test_map[:] = np.dot(test_vis.T, np.exp(-2j * np.pi * ns_baselines[:,np.newaxis]\n",
    "                                        / test_model.wl * np.sin(test_za)[np.newaxis,:]))"
   ]
  },
  {
   "cell_type": "code",
   "execution_count": null,
   "metadata": {},
   "outputs": [],
   "source": [
    "plt.imshow(test_map.T.real, aspect='auto')\n",
    "plt.colorbar()"
   ]
  },
  {
   "cell_type": "code",
   "execution_count": null,
   "metadata": {},
   "outputs": [],
   "source": [
    "x = np.linspace(-1.5, 1.5, 200)\n",
    "plt.plot(x, np.sin(np.pi * x)/(np.pi*x))\n",
    "plt.plot(x, np.exp(-0.5*x**2 / (0.5137)**2))"
   ]
  },
  {
   "cell_type": "code",
   "execution_count": null,
   "metadata": {},
   "outputs": [],
   "source": [
    "# figure out how to get accurate RA/dec, galactic coordinates\n",
    "ch_obs = ephem.chime_observer()\n",
    "sf_obs = ch_obs.skyfield_obs()"
   ]
  },
  {
   "cell_type": "code",
   "execution_count": null,
   "metadata": {},
   "outputs": [],
   "source": [
    "test_t = unix_to_skyfield_time(1538961688.)\n",
    "alt = np.concatenate((np.linspace(0.,90.,100), np.linspace(0.,90.,100)[::-1]))\n",
    "az = np.zeros_like(alt)\n",
    "az[:100] = 180.\n",
    "pos = sf_obs.at(test_t).from_altaz(az_degrees=az, alt_degrees=alt)"
   ]
  },
  {
   "cell_type": "code",
   "execution_count": null,
   "metadata": {},
   "outputs": [],
   "source": [
    "gallat, gallon = pos.galactic_latlon()[:2]"
   ]
  },
  {
   "cell_type": "code",
   "execution_count": null,
   "metadata": {},
   "outputs": [],
   "source": [
    "gallat.degrees"
   ]
  }
 ],
 "metadata": {
  "kernelspec": {
   "display_name": "continuum_beam",
   "language": "python",
   "name": "continuum_beam"
  },
  "language_info": {
   "codemirror_mode": {
    "name": "ipython",
    "version": 2
   },
   "file_extension": ".py",
   "mimetype": "text/x-python",
   "name": "python",
   "nbconvert_exporter": "python",
   "pygments_lexer": "ipython2",
   "version": "2.7.12"
  }
 },
 "nbformat": 4,
 "nbformat_minor": 2
}
