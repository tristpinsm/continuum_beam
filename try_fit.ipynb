{
 "cells": [
  {
   "cell_type": "code",
   "execution_count": null,
   "metadata": {},
   "outputs": [],
   "source": [
    "import healpy\n",
    "from cora.util import hputil\n",
    "import numpy as np\n",
    "from matplotlib import pyplot as plt\n",
    "from matplotlib import ticker\n",
    "from ch_util import ephemeris as ephem, andata\n",
    "from caput.time import unix_to_skyfield_time\n",
    "import h5py\n",
    "import time\n",
    "from glob import glob\n",
    "\n",
    "%load_ext autoreload\n",
    "%autoreload 2\n",
    "\n",
    "from continuum_beam import *\n",
    "\n",
    "%matplotlib inline\n",
    "plt.rcParams.update({'figure.figsize': (16, 12), 'font.size': 20})"
   ]
  },
  {
   "cell_type": "markdown",
   "metadata": {},
   "source": [
    "# Try fitting beam using Haslam"
   ]
  },
  {
   "cell_type": "code",
   "execution_count": null,
   "metadata": {},
   "outputs": [],
   "source": [
    "plot_path = \"../plots/continuum_beam/\""
   ]
  },
  {
   "cell_type": "markdown",
   "metadata": {},
   "source": [
    "## Select a quiet region in RA"
   ]
  },
  {
   "cell_type": "code",
   "execution_count": null,
   "metadata": {},
   "outputs": [],
   "source": [
    "# RA range during nighttime in Sept/October in between bright point source\n",
    "target_RA = (30., 60.)\n",
    "#target_RA = (269., 271.)"
   ]
  },
  {
   "cell_type": "code",
   "execution_count": null,
   "metadata": {},
   "outputs": [],
   "source": [
    "# Look at an acquisition I was using for ring maps\n",
    "acq_path = \"/mnt/gong/archive/20180921T004045Z_chimeN2_corr/\"\n",
    "gain_file = \"/mnt/recv1/calibration/gain_updates/gain_20180921T050356.984083Z_cyga.h5\""
   ]
  },
  {
   "cell_type": "code",
   "execution_count": null,
   "metadata": {},
   "outputs": [],
   "source": [
    "# get N2 frequencies\n",
    "with h5py.File(acq_path + \"00000000_0000.h5\") as fh:\n",
    "    freq = fh['index_map/freq']['centre']\n",
    "    start_time = fh['index_map/time']['ctime'][0]\n",
    "# read gains\n",
    "with h5py.File(gain_file) as fh:\n",
    "    gain = fh['gain'][:]\n",
    "    gain_freq_ind = [ list(fh['index_map/freq']['centre']).index(f) for f in freq ]"
   ]
  },
  {
   "cell_type": "code",
   "execution_count": null,
   "metadata": {},
   "outputs": [],
   "source": [
    "# choose a frequency\n",
    "f_ind = 9\n",
    "print freq[f_ind]"
   ]
  },
  {
   "cell_type": "code",
   "execution_count": null,
   "metadata": {},
   "outputs": [],
   "source": [
    "target_time = [ ephem.transit_times(r, start_time) for r in target_RA ]"
   ]
  },
  {
   "cell_type": "code",
   "execution_count": null,
   "metadata": {},
   "outputs": [],
   "source": [
    "datar = andata.CorrReader(sorted(glob(acq_path + \"*.h5\"))[:18])"
   ]
  },
  {
   "cell_type": "code",
   "execution_count": null,
   "metadata": {},
   "outputs": [],
   "source": [
    "# select time and freq\n",
    "datar.select_freq_physical((freq[f_ind],))\n",
    "datar.select_time_range(*target_time)"
   ]
  },
  {
   "cell_type": "code",
   "execution_count": null,
   "metadata": {},
   "outputs": [],
   "source": [
    "# select intracyl baselines for A\n",
    "prod_sel = np.zeros(256*257/2, dtype=int)\n",
    "for i in range(256):\n",
    "    row_l = 256 - i\n",
    "    start_i = i*256 - i*(i-1)/2\n",
    "    full_start_i = i*2048 - i*(i-1)/2\n",
    "    prod_sel[start_i:start_i + row_l] = full_start_i + np.arange(row_l)\n",
    "datar.prod_sel = prod_sel"
   ]
  },
  {
   "cell_type": "code",
   "execution_count": null,
   "metadata": {},
   "outputs": [],
   "source": [
    "data = datar.read()"
   ]
  },
  {
   "cell_type": "code",
   "execution_count": null,
   "metadata": {},
   "outputs": [],
   "source": [
    "test_prods = np.zeros((256,256))\n",
    "for p in data.prod:\n",
    "    test_prods[p['input_a'], p['input_b']] += 1."
   ]
  },
  {
   "cell_type": "code",
   "execution_count": null,
   "metadata": {},
   "outputs": [],
   "source": [
    "plt.imshow(test_prods)"
   ]
  },
  {
   "cell_type": "code",
   "execution_count": null,
   "metadata": {},
   "outputs": [],
   "source": [
    "# plot autos\n",
    "p = 0\n",
    "for i in range(256):\n",
    "    plt.plot(np.abs(data.vis[0,p,:]))\n",
    "    p += 256 - i"
   ]
  },
  {
   "cell_type": "markdown",
   "metadata": {},
   "source": [
    "## Apply gain and exclude flagged inputs"
   ]
  },
  {
   "cell_type": "code",
   "execution_count": null,
   "metadata": {},
   "outputs": [],
   "source": [
    "vis_cal = data.vis[0,:,:] * np.outer(gain[gain_freq_ind[f_ind],:256], \n",
    "                              gain[gain_freq_ind[f_ind],:256].conj())[np.triu_indices(256)][:,np.newaxis]"
   ]
  },
  {
   "cell_type": "code",
   "execution_count": null,
   "metadata": {},
   "outputs": [],
   "source": [
    "wgt_cal = data.weight[0,:,:] / np.abs(np.outer(gain[gain_freq_ind[f_ind],:256], \n",
    "                              gain[gain_freq_ind[f_ind],:256].conj())[np.triu_indices(256)][:,np.newaxis])**2"
   ]
  },
  {
   "cell_type": "code",
   "execution_count": null,
   "metadata": {},
   "outputs": [],
   "source": [
    "# plot autos\n",
    "p = 0\n",
    "autos_ind = []\n",
    "for i in range(256):\n",
    "    plt.plot(np.abs(vis_cal[p,:]))\n",
    "    autos_ind.append(p)\n",
    "    p += 256 - i"
   ]
  },
  {
   "cell_type": "code",
   "execution_count": null,
   "metadata": {},
   "outputs": [],
   "source": [
    "ns_baselines = ((data.prod['input_a'] % 256).astype(float)\n",
    "                 - data.prod['input_b'] % 256) * 0.3"
   ]
  },
  {
   "cell_type": "code",
   "execution_count": null,
   "metadata": {},
   "outputs": [],
   "source": [
    "bad_input = np.prod(data.flags['inputs'], axis=1)\n",
    "print np.sum(bad_input)\n",
    "bad_input *= gain[gain_freq_ind[f_ind],:256] != 0\n",
    "print np.sum(bad_input)\n",
    "bad_prod = np.outer(bad_input, bad_input)[np.triu_indices(256)]\n",
    "# remove autos\n",
    "bad_prod[np.array(autos_ind)] = 0.\n",
    "# remove short baselines\n",
    "#bad_prod[np.where(np.abs(ns_baselines) < 3. * 0.3)[0]] = 0.\n",
    "good_prod = np.where(bad_prod != 0.)[0]"
   ]
  },
  {
   "cell_type": "code",
   "execution_count": null,
   "metadata": {},
   "outputs": [],
   "source": [
    "# remove excluded products\n",
    "vis_cal = vis_cal[good_prod,:]\n",
    "wgt_cal = wgt_cal[good_prod,:]\n",
    "ns_baselines = ns_baselines[good_prod]"
   ]
  },
  {
   "cell_type": "markdown",
   "metadata": {},
   "source": [
    "## Try on a single RA"
   ]
  },
  {
   "cell_type": "code",
   "execution_count": null,
   "metadata": {},
   "outputs": [],
   "source": [
    "test_ind = vis_cal.shape[-1] / 2\n",
    "#test_ind = vis_cal.shape[-1] - 1"
   ]
  },
  {
   "cell_type": "code",
   "execution_count": null,
   "metadata": {},
   "outputs": [],
   "source": [
    "test_model = ModelVis(freq=freq[f_ind])"
   ]
  },
  {
   "cell_type": "code",
   "execution_count": null,
   "metadata": {},
   "outputs": [],
   "source": [
    "test_model.set_baselines(ns_baselines)"
   ]
  },
  {
   "cell_type": "code",
   "execution_count": null,
   "metadata": {},
   "outputs": [],
   "source": [
    "max_za = 80.\n",
    "num_pix = int(2 * max_za / 2)  # approx 2 deg resolution for Haslam\n",
    "#time_slice = slice(test_ind-5, test_ind+5)\n",
    "time_slice = slice(test_ind-200, test_ind+200, 10)"
   ]
  },
  {
   "cell_type": "code",
   "execution_count": null,
   "metadata": {},
   "outputs": [],
   "source": [
    "ct_offset = np.sum(vis_cal[:,:]*wgt_cal[:,:], axis=1) / np.sum(wgt_cal[:,:], axis=1)"
   ]
  },
  {
   "cell_type": "code",
   "execution_count": null,
   "metadata": {},
   "outputs": [],
   "source": [
    "beam_sol = test_model.fit_beam(data.time[time_slice], vis_cal[:,time_slice],\n",
    "                               wgt_cal[:,time_slice],\n",
    "                               num_pix, max_za=max_za, rcond=1e-2)"
   ]
  },
  {
   "cell_type": "code",
   "execution_count": null,
   "metadata": {},
   "outputs": [],
   "source": [
    "beam_sol_single = test_model.fit_beam(data.time[test_ind:test_ind+1], vis_cal[:,test_ind:test_ind+1],\n",
    "                               np.ones_like(wgt_cal[:,test_ind:test_ind+1]),\n",
    "                               num_pix, max_za=max_za, rcond=1e-9)"
   ]
  },
  {
   "cell_type": "code",
   "execution_count": null,
   "metadata": {},
   "outputs": [],
   "source": [
    "plt.plot(np.linspace(-max_za, max_za, num_pix), beam_sol)\n",
    "plt.plot(np.linspace(-max_za, max_za, num_pix), beam_sol_single)"
   ]
  },
  {
   "cell_type": "code",
   "execution_count": null,
   "metadata": {},
   "outputs": [],
   "source": [
    "#plt.imshow(np.linalg.inv(test_model.M))\n",
    "#plt.imshow(np.log10(np.abs(test_model.M)))\n",
    "plt.imshow(np.log10(np.abs(np.dot(np.linalg.inv(test_model.M), test_model.M))),\n",
    "          extent=(-max_za,max_za,-max_za,max_za))\n",
    "plt.colorbar()"
   ]
  },
  {
   "cell_type": "code",
   "execution_count": null,
   "metadata": {},
   "outputs": [],
   "source": [
    "for k in range(0, 256, 64):\n",
    "    plt.plot(test_model.M[k,:], label=\"{}\".format(k))\n",
    "plt.legend()\n",
    "plt.ylim(ymax=1e12, ymin=-1e12)"
   ]
  },
  {
   "cell_type": "code",
   "execution_count": null,
   "metadata": {},
   "outputs": [],
   "source": [
    "plt.imshow(test_model.M - test_model.M.T)\n",
    "plt.colorbar()"
   ]
  },
  {
   "cell_type": "code",
   "execution_count": null,
   "metadata": {},
   "outputs": [],
   "source": [
    "U, S, V = np.linalg.svd(test_model.M)"
   ]
  },
  {
   "cell_type": "code",
   "execution_count": null,
   "metadata": {},
   "outputs": [],
   "source": [
    "S.shape"
   ]
  },
  {
   "cell_type": "code",
   "execution_count": null,
   "metadata": {},
   "outputs": [],
   "source": [
    "plt.plot(np.log10(S / S[0]))\n",
    "plt.ylabel(\"$\\log_{10}(\\Sigma_i)$\")\n",
    "plt.xlabel(\"$i$\")"
   ]
  },
  {
   "cell_type": "code",
   "execution_count": null,
   "metadata": {},
   "outputs": [],
   "source": [
    "plt.plot(test_model.v)"
   ]
  },
  {
   "cell_type": "code",
   "execution_count": null,
   "metadata": {},
   "outputs": [],
   "source": [
    "ns_bl_norm = np.zeros(data.vis.shape[1])\n",
    "start_i = 0\n",
    "for i in range(256):\n",
    "    ns_bl_norm[start_i:start_i+256-i] = (np.arange(256-i) + 1)\n",
    "    start_i += 256 - i\n",
    "ns_bl_norm = ns_bl_norm[good_prod]"
   ]
  },
  {
   "cell_type": "code",
   "execution_count": null,
   "metadata": {},
   "outputs": [],
   "source": [
    "test_norm = np.zeros((256,256))\n",
    "test_norm[np.triu_indices(256)] = ns_bl_norm\n",
    "plt.imshow(test_norm)"
   ]
  },
  {
   "cell_type": "code",
   "execution_count": null,
   "metadata": {},
   "outputs": [],
   "source": [
    "test_vis = test_model.get_vis(data.time[test_ind:test_ind+1], vis_cal[:,test_ind:test_ind+1],\n",
    "                               num_pix, max_za=max_za)\n",
    "test_za = np.radians(np.linspace(-max_za, max_za, num_pix))\n",
    "test_map = np.dot(test_vis[:,0]/ns_bl_norm, np.exp(-2j * np.pi * ns_baselines[:,np.newaxis]\n",
    "                                        / test_model.wl * np.sin(test_za)[np.newaxis,:]))"
   ]
  },
  {
   "cell_type": "code",
   "execution_count": null,
   "metadata": {},
   "outputs": [],
   "source": [
    "test_map_vis = np.dot(vis_cal[:,test_ind] / ns_bl_norm, np.exp(-2j * np.pi * ns_baselines[:,np.newaxis]\n",
    "                                        / test_model.wl * np.sin(test_za)[np.newaxis,:]))"
   ]
  },
  {
   "cell_type": "code",
   "execution_count": null,
   "metadata": {},
   "outputs": [],
   "source": [
    "plt.subplot(2,1,1)\n",
    "plt.plot(test_za/np.pi, test_map.real, label=\"Haslam\")\n",
    "plt.gca().yaxis.set_ticklabels([])\n",
    "plt.legend()\n",
    "\n",
    "plt.subplot(2,1,2)\n",
    "plt.plot(test_za/np.pi, test_map_vis.real, label=\"CHIME\")\n",
    "plt.gca().yaxis.set_ticklabels([])\n",
    "plt.legend()\n",
    "\n",
    "plt.xlabel(r\"$\\theta_k/\\pi$\")\n",
    "#yfmt = ticker.ScalarFormatter()\n",
    "#yfmt.set_powerlimits((-2,2))\n",
    "#plt.gca().yaxis.set_major_formatter(yfmt)\n",
    "\n",
    "this_ra = ephem.transit_RA(data.time[test_ind])\n",
    "plt.suptitle(u\"RA of {:.1f}°\".format(this_ra), y=1.02, )\n",
    "\n",
    "plt.tight_layout()\n",
    "\n",
    "plt.savefig(plot_path + \"/slice_ra{:.0f}.png\".format(this_ra), dpi=300, bbox_inches='tight')"
   ]
  },
  {
   "cell_type": "code",
   "execution_count": null,
   "metadata": {},
   "outputs": [],
   "source": [
    "plt.plot(test_map_vis.real * test_map.real)"
   ]
  },
  {
   "cell_type": "code",
   "execution_count": null,
   "metadata": {},
   "outputs": [],
   "source": [
    "plt.plot(np.sum(test_model.M, axis=1))"
   ]
  },
  {
   "cell_type": "markdown",
   "metadata": {},
   "source": [
    "## Try a different region of RA"
   ]
  },
  {
   "cell_type": "code",
   "execution_count": null,
   "metadata": {},
   "outputs": [],
   "source": [
    "target_ra_far = (269., 271.)\n",
    "target_time_far = [ ephem.transit_times(r, start_time) for r in target_ra_far ]\n",
    "datar.select_time_range(*target_time_far)"
   ]
  },
  {
   "cell_type": "code",
   "execution_count": null,
   "metadata": {},
   "outputs": [],
   "source": [
    "target_time_far"
   ]
  },
  {
   "cell_type": "code",
   "execution_count": null,
   "metadata": {},
   "outputs": [],
   "source": [
    "data_far = datar.read()"
   ]
  },
  {
   "cell_type": "code",
   "execution_count": null,
   "metadata": {},
   "outputs": [],
   "source": [
    "vis_cal_far = data_far.vis[0,:,:] * np.outer(gain[gain_freq_ind[f_ind],:256], \n",
    "                              gain[gain_freq_ind[f_ind],:256].conj())[np.triu_indices(256)][:,np.newaxis]\n",
    "wgt_cal_far = data_far.weight[0,:,:] / np.abs(np.outer(gain[gain_freq_ind[f_ind],:256], \n",
    "                              gain[gain_freq_ind[f_ind],:256].conj())[np.triu_indices(256)][:,np.newaxis])**2"
   ]
  },
  {
   "cell_type": "code",
   "execution_count": null,
   "metadata": {},
   "outputs": [],
   "source": [
    "bad_input_far = np.prod(data_far.flags['inputs'], axis=1)\n",
    "print np.sum(bad_input_far)\n",
    "bad_input_far *= gain[gain_freq_ind[f_ind],:256] != 0\n",
    "print np.sum(bad_input_far)\n",
    "bad_prod_far = np.outer(bad_input_far, bad_input_far)[np.triu_indices(256)]\n",
    "# remove autos\n",
    "bad_prod_far[np.array(autos_ind)] = 0.\n",
    "# remove short baselines\n",
    "#bad_prod[np.where(np.abs(ns_baselines) < 3. * 0.3)[0]] = 0.\n",
    "good_prod_far = np.where(bad_prod_far != 0.)[0]"
   ]
  },
  {
   "cell_type": "code",
   "execution_count": null,
   "metadata": {},
   "outputs": [],
   "source": [
    "vis_cal_far = vis_cal_far[good_prod]\n",
    "wgt_cal_far = wgt_cal_far[good_prod]"
   ]
  },
  {
   "cell_type": "code",
   "execution_count": null,
   "metadata": {},
   "outputs": [],
   "source": [
    "test_ind_far = vis_cal_far.shape[-1] / 2\n",
    "time_slice_far = slice(test_ind_far - 20, test_ind_far + 20, 4)"
   ]
  },
  {
   "cell_type": "code",
   "execution_count": null,
   "metadata": {},
   "outputs": [],
   "source": [
    "test_map_vis_far = np.dot(vis_cal_far[:,test_ind_far] / ns_bl_norm, np.exp(-2j * np.pi * ns_baselines[:,np.newaxis]\n",
    "                                        / test_model.wl * np.sin(test_za)[np.newaxis,:]))"
   ]
  },
  {
   "cell_type": "code",
   "execution_count": null,
   "metadata": {},
   "outputs": [],
   "source": [
    "test_model_far = ModelVis(freq=freq[f_ind])\n",
    "test_model_far.set_baselines(ns_baselines)"
   ]
  },
  {
   "cell_type": "code",
   "execution_count": null,
   "metadata": {},
   "outputs": [],
   "source": [
    "beam_sol_far = test_model_far.fit_beam(data_far.time[time_slice_far], \n",
    "                                   vis_cal_far[:,time_slice_far],\n",
    "                                   wgt_cal_far[:,time_slice_far],\n",
    "                                   num_pix, max_za=max_za, rcond=1e-9)"
   ]
  },
  {
   "cell_type": "code",
   "execution_count": null,
   "metadata": {},
   "outputs": [],
   "source": [
    "beam_sol_far = test_model_far.fit_beam(data_far.time[test_ind_far:test_ind_far+1], \n",
    "                                   vis_cal_far[:,test_ind_far:test_ind_far+1],\n",
    "                                   wgt_cal_far[:,test_ind_far:test_ind_far+1],\n",
    "                                   num_pix, max_za=max_za, rcond=1e-9)"
   ]
  },
  {
   "cell_type": "code",
   "execution_count": null,
   "metadata": {},
   "outputs": [],
   "source": [
    "plt.plot(test_za/np.pi, beam_sol_far, label=\"RA~{:.1f}\".format(ephem.transit_RA(data_far.time[test_ind_far])))\n",
    "plt.plot(test_za/np.pi, beam_sol_single, label=\"RA~{:.1f}\".format(ephem.transit_RA(data.time[test_ind])))\n",
    "plt.legend()\n",
    "\n",
    "plt.ylabel(r\"fit parameters $\\alpha_k$\")\n",
    "plt.xlabel(r\"$\\theta_k / \\pi$\")\n",
    "\n",
    "plt.title(\"{:.2f} MHz\".format(freq[f_ind]))\n",
    "\n",
    "plt.savefig(plot_path + \"/beam_soln.png\", dpi=300, bbox_inches='tight')"
   ]
  },
  {
   "cell_type": "code",
   "execution_count": null,
   "metadata": {},
   "outputs": [],
   "source": [
    "test_vis_far = test_model_far.get_vis(data_far.time[test_ind_far:test_ind_far+1],\n",
    "                                      vis_cal_far[:,test_ind_far:test_ind_far+1],\n",
    "                                      num_pix, max_za=max_za)\n",
    "test_map_far = np.dot(test_vis_far[:,0]/ns_bl_norm, np.exp(-2j * np.pi * ns_baselines[:,np.newaxis]\n",
    "                                        / test_model.wl * np.sin(test_za)[np.newaxis,:]))"
   ]
  },
  {
   "cell_type": "code",
   "execution_count": null,
   "metadata": {},
   "outputs": [],
   "source": [
    "plt.subplot(2,1,1)\n",
    "plt.plot(test_za/np.pi, test_map_far.real, label=\"Haslam\")\n",
    "plt.gca().yaxis.set_ticklabels([])\n",
    "plt.legend()\n",
    "\n",
    "plt.subplot(2,1,2)\n",
    "plt.plot(test_za/np.pi, test_map_vis_far.real, label=\"CHIME\")\n",
    "plt.gca().yaxis.set_ticklabels([])\n",
    "plt.legend()\n",
    "\n",
    "plt.xlabel(r\"$\\theta_k/\\pi$\")\n",
    "#yfmt = ticker.ScalarFormatter()\n",
    "#yfmt.set_powerlimits((-2,2))\n",
    "#plt.gca().yaxis.set_major_formatter(yfmt)\n",
    "\n",
    "this_ra = ephem.transit_RA(data_far.time[test_ind_far])\n",
    "plt.suptitle(u\"RA of {:.1f}°\".format(this_ra), y=1.02, )\n",
    "\n",
    "plt.tight_layout()\n",
    "\n",
    "plt.savefig(plot_path + \"/slice_ra{:.0f}.png\".format(this_ra), dpi=300, bbox_inches='tight')"
   ]
  },
  {
   "cell_type": "code",
   "execution_count": null,
   "metadata": {},
   "outputs": [],
   "source": [
    "ephem.transit_RA(data_far.time[test_ind_far])"
   ]
  },
  {
   "cell_type": "markdown",
   "metadata": {},
   "source": [
    "## Try on multiple frequencies"
   ]
  },
  {
   "cell_type": "code",
   "execution_count": null,
   "metadata": {},
   "outputs": [],
   "source": [
    "datar_f = andata.CorrReader(sorted(glob(acq_path + \"*.h5\"))[:18])\n",
    "# select time and freq\n",
    "datar_f.select_freq_physical(freq)\n",
    "datar_f.select_time_range(*target_time)\n",
    "datar_f.prod_sel = prod_sel"
   ]
  },
  {
   "cell_type": "code",
   "execution_count": null,
   "metadata": {},
   "outputs": [],
   "source": [
    "data_f = datar_f.read()"
   ]
  },
  {
   "cell_type": "code",
   "execution_count": null,
   "metadata": {},
   "outputs": [],
   "source": [
    "vis_cal_mf = []\n",
    "wgt_cal_mf = []\n",
    "for f in range(len(freq)):\n",
    "    vis_cal_mf.append(data_f.vis[f,:,:] * np.outer(gain[gain_freq_ind[f],:256], \n",
    "                              gain[gain_freq_ind[f],:256].conj())[np.triu_indices(256)][:,np.newaxis])\n",
    "    wgt_cal_mf.append(data_f.weight[f,:,:] / np.abs(np.outer(gain[gain_freq_ind[f],:256], \n",
    "                              gain[gain_freq_ind[f],:256].conj())[np.triu_indices(256)][:,np.newaxis])**2)"
   ]
  },
  {
   "cell_type": "code",
   "execution_count": null,
   "metadata": {},
   "outputs": [],
   "source": [
    "bad_input_mf = np.prod(data_f.flags['inputs'], axis=1)\n",
    "print np.sum(bad_input_mf)\n",
    "bad_input_mf = bad_input_mf * gain[gain_freq_ind,:256] != 0\n",
    "print np.sum(bad_input_far)\n",
    "bad_prod_mf = np.zeros((len(freq), vis_cal_mf[0].shape[0]))\n",
    "for f in range(len(freq)):\n",
    "    bad_prod_mf[f] = np.outer(bad_input_mf[f], bad_input_mf[f])[np.triu_indices(256)]\n",
    "# remove autos\n",
    "bad_prod_mf[:,np.array(autos_ind)] = 0.\n",
    "# remove short baselines\n",
    "#bad_prod[np.where(np.abs(ns_baselines) < 3. * 0.3)[0]] = 0.\n",
    "\n",
    "good_prod_mf = []\n",
    "for f in range(len(freq)):\n",
    "    good_prod_mf.append(np.where(bad_prod_mf[f] != 0.)[0])"
   ]
  },
  {
   "cell_type": "code",
   "execution_count": null,
   "metadata": {},
   "outputs": [],
   "source": [
    "ns_baselines_all = ((data.prod['input_a'] % 256).astype(float)\n",
    "                 - data.prod['input_b'] % 256) * 0.3"
   ]
  },
  {
   "cell_type": "code",
   "execution_count": null,
   "metadata": {},
   "outputs": [],
   "source": [
    "ns_baselines_mf = []\n",
    "for f in range(len(freq)):\n",
    "    vis_cal_mf[f] = vis_cal_mf[f][good_prod_mf[f]]\n",
    "    wgt_cal_mf[f] = wgt_cal_mf[f][good_prod_mf[f]]\n",
    "    ns_baselines_mf.append(ns_baselines_all[good_prod_mf[f]])"
   ]
  },
  {
   "cell_type": "code",
   "execution_count": null,
   "metadata": {},
   "outputs": [],
   "source": [
    "test_ind_mf = vis_cal_mf[0].shape[-1] / 2\n",
    "time_slice_mf = slice(test_ind_mf - 2, test_ind_mf + 2)"
   ]
  },
  {
   "cell_type": "code",
   "execution_count": null,
   "metadata": {},
   "outputs": [],
   "source": [
    "test_model_mf = []\n",
    "for f in range(len(freq)):\n",
    "    test_model_mf.append(ModelVis(freq=freq[f]))\n",
    "    test_model_mf[-1].set_baselines(ns_baselines_mf[f])"
   ]
  },
  {
   "cell_type": "code",
   "execution_count": null,
   "metadata": {},
   "outputs": [],
   "source": [
    "beam_sol_mf = np.zeros((len(freq), num_pix))\n",
    "for f in range(1, len(freq)):\n",
    "    beam_sol_mf[f] = test_model_mf[f].fit_beam(data_f.time[time_slice_mf], \n",
    "                                   vis_cal_mf[f][:,time_slice_mf],\n",
    "                                   wgt_cal_mf[f][:,time_slice_mf],\n",
    "                                   num_pix, max_za=max_za, rcond=1e-9)"
   ]
  },
  {
   "cell_type": "code",
   "execution_count": null,
   "metadata": {},
   "outputs": [],
   "source": [
    "for f in range(1, len(freq)):\n",
    "    plt.plot(beam_sol_mf[f], label=\"{:.1f}\".format(freq[f]))\n",
    "    \n",
    "plt.legend()\n",
    "plt.ylim(ymin=-0.005, ymax=0.005)"
   ]
  }
 ],
 "metadata": {
  "kernelspec": {
   "display_name": "continuum_beam",
   "language": "python",
   "name": "continuum_beam"
  },
  "language_info": {
   "codemirror_mode": {
    "name": "ipython",
    "version": 2
   },
   "file_extension": ".py",
   "mimetype": "text/x-python",
   "name": "python",
   "nbconvert_exporter": "python",
   "pygments_lexer": "ipython2",
   "version": "2.7.12"
  }
 },
 "nbformat": 4,
 "nbformat_minor": 2
}
