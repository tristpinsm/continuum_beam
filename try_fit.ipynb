{
 "cells": [
  {
   "cell_type": "code",
   "execution_count": null,
   "metadata": {},
   "outputs": [],
   "source": [
    "import healpy\n",
    "from cora.util import hputil\n",
    "import numpy as np\n",
    "from matplotlib import pyplot as plt\n",
    "from ch_util import ephemeris as ephem, andata\n",
    "from caput.time import unix_to_skyfield_time\n",
    "import h5py\n",
    "import time\n",
    "from glob import glob\n",
    "\n",
    "%load_ext autoreload\n",
    "%autoreload 2\n",
    "\n",
    "from continuum_beam import *\n",
    "\n",
    "%matplotlib inline\n",
    "plt.rcParams.update({'figure.figsize': (16, 12), 'font.size': 16})"
   ]
  },
  {
   "cell_type": "markdown",
   "metadata": {},
   "source": [
    "# Try fitting beam using Haslam"
   ]
  },
  {
   "cell_type": "markdown",
   "metadata": {},
   "source": [
    "## Select a quiet region in RA"
   ]
  },
  {
   "cell_type": "code",
   "execution_count": null,
   "metadata": {},
   "outputs": [],
   "source": [
    "# RA range during nighttime in Sept/October in between bright point source\n",
    "target_RA = (30., 60.)"
   ]
  },
  {
   "cell_type": "code",
   "execution_count": null,
   "metadata": {},
   "outputs": [],
   "source": [
    "# Look at an acquisition I was using for ring maps\n",
    "acq_path = \"/mnt/gong/archive/20180921T004045Z_chimeN2_corr/\"\n",
    "gain_file = \"/mnt/recv1/calibration/gain_updates/gain_20180921T050356.984083Z_cyga.h5\""
   ]
  },
  {
   "cell_type": "code",
   "execution_count": null,
   "metadata": {},
   "outputs": [],
   "source": [
    "# get N2 frequencies\n",
    "with h5py.File(acq_path + \"00000000_0000.h5\") as fh:\n",
    "    freq = fh['index_map/freq']['centre']\n",
    "    start_time = fh['index_map/time']['ctime'][0]\n",
    "# read gains\n",
    "with h5py.File(gain_file) as fh:\n",
    "    gain = fh['gain'][:]\n",
    "    gain_freq_ind = [ list(fh['index_map/freq']['centre']).index(f) for f in freq ]"
   ]
  },
  {
   "cell_type": "code",
   "execution_count": null,
   "metadata": {},
   "outputs": [],
   "source": [
    "# choose a frequency\n",
    "f_ind = 9\n",
    "print freq[f_ind]"
   ]
  },
  {
   "cell_type": "code",
   "execution_count": null,
   "metadata": {},
   "outputs": [],
   "source": [
    "target_time = [ ephem.transit_times(r, start_time) for r in target_RA ]"
   ]
  },
  {
   "cell_type": "code",
   "execution_count": null,
   "metadata": {},
   "outputs": [],
   "source": [
    "datar = andata.CorrReader(sorted(glob(acq_path + \"*.h5\"))[:18])"
   ]
  },
  {
   "cell_type": "code",
   "execution_count": null,
   "metadata": {},
   "outputs": [],
   "source": [
    "# select time and freq\n",
    "datar.select_freq_physical((freq[f_ind],))\n",
    "datar.select_time_range(*target_time)"
   ]
  },
  {
   "cell_type": "code",
   "execution_count": null,
   "metadata": {},
   "outputs": [],
   "source": [
    "# select intracyl baselines for A\n",
    "prod_sel = np.zeros(256*257/2, dtype=int)\n",
    "for i in range(256):\n",
    "    row_l = 256 - i\n",
    "    start_i = i*256 - i*(i-1)/2\n",
    "    full_start_i = i*2048 - i*(i-1)/2\n",
    "    prod_sel[start_i:start_i + row_l] = full_start_i + np.arange(row_l)\n",
    "datar.prod_sel = prod_sel"
   ]
  },
  {
   "cell_type": "code",
   "execution_count": null,
   "metadata": {},
   "outputs": [],
   "source": [
    "data = datar.read()"
   ]
  },
  {
   "cell_type": "code",
   "execution_count": null,
   "metadata": {},
   "outputs": [],
   "source": [
    "test_prods = np.zeros((256,256))\n",
    "for p in data.prod:\n",
    "    test_prods[p['input_a'], p['input_b']] += 1."
   ]
  },
  {
   "cell_type": "code",
   "execution_count": null,
   "metadata": {},
   "outputs": [],
   "source": [
    "plt.imshow(test_prods)"
   ]
  },
  {
   "cell_type": "code",
   "execution_count": null,
   "metadata": {},
   "outputs": [],
   "source": [
    "# plot autos\n",
    "p = 0\n",
    "for i in range(256):\n",
    "    plt.plot(np.abs(data.vis[0,p,:]))\n",
    "    p += 256 - i"
   ]
  },
  {
   "cell_type": "markdown",
   "metadata": {},
   "source": [
    "## Apply gain and exclude flagged inputs"
   ]
  },
  {
   "cell_type": "code",
   "execution_count": null,
   "metadata": {},
   "outputs": [],
   "source": [
    "vis_cal = data.vis[0,:,:] * np.outer(gain[gain_freq_ind[f_ind],:256], \n",
    "                              gain[gain_freq_ind[f_ind],:256].conj())[np.triu_indices(256)][:,np.newaxis]"
   ]
  },
  {
   "cell_type": "code",
   "execution_count": null,
   "metadata": {},
   "outputs": [],
   "source": [
    "wgt_cal = data.weight[0,:,:] / np.abs(np.outer(gain[gain_freq_ind[f_ind],:256], \n",
    "                              gain[gain_freq_ind[f_ind],:256].conj())[np.triu_indices(256)][:,np.newaxis])**2"
   ]
  },
  {
   "cell_type": "code",
   "execution_count": null,
   "metadata": {},
   "outputs": [],
   "source": [
    "bad_input = np.prod(data.flags['inputs'], axis=1)\n",
    "print np.sum(bad_input)\n",
    "bad_input *= gain[gain_freq_ind[f_ind],:256] != 0\n",
    "print np.sum(bad_input)\n",
    "bad_prod = np.where(np.outer(bad_input, bad_input)[np.triu_indices(256)] == 0.)[0]\n",
    "good_prod = np.where(np.outer(bad_input, bad_input)[np.triu_indices(256)] != 0.)[0]"
   ]
  },
  {
   "cell_type": "code",
   "execution_count": null,
   "metadata": {},
   "outputs": [],
   "source": [
    "# plot autos\n",
    "p = 0\n",
    "for i in range(256):\n",
    "    if not p in bad_prod:\n",
    "        plt.plot(np.abs(vis_cal[p,:]))\n",
    "    p += 256 - i"
   ]
  },
  {
   "cell_type": "code",
   "execution_count": null,
   "metadata": {},
   "outputs": [],
   "source": [
    "vis_cal = vis_cal[good_prod,:]\n",
    "wgt_cal = wgt_cal[good_prod,:]"
   ]
  },
  {
   "cell_type": "markdown",
   "metadata": {},
   "source": [
    "## Try on a single RA"
   ]
  },
  {
   "cell_type": "code",
   "execution_count": null,
   "metadata": {},
   "outputs": [],
   "source": [
    "test_ind = vis_cal.shape[-1] / 2"
   ]
  },
  {
   "cell_type": "code",
   "execution_count": null,
   "metadata": {},
   "outputs": [],
   "source": [
    "test_model = ModelVis(freq=freq[f_ind])"
   ]
  },
  {
   "cell_type": "code",
   "execution_count": null,
   "metadata": {},
   "outputs": [],
   "source": [
    "ns_baselines = ((data.prod['input_b'] % 256).astype(float)\n",
    "                 - data.prod['input_a'] % 256)\n",
    "ns_baselines = ns_baselines[good_prod]\n",
    "test_model.set_baselines(ns_baselines)"
   ]
  },
  {
   "cell_type": "code",
   "execution_count": null,
   "metadata": {},
   "outputs": [],
   "source": [
    "vis_cal[:,time_slice].shape"
   ]
  },
  {
   "cell_type": "code",
   "execution_count": null,
   "metadata": {},
   "outputs": [],
   "source": [
    "num_pix = 256\n",
    "max_za = 30.\n",
    "time_slice = slice(test_ind, test_ind+1)\n",
    "beam_sol = test_model.fit_beam(data.time[time_slice], vis_cal[:,time_slice], wgt_cal[:,time_slice],\n",
    "                               num_pix, max_za=max_za)"
   ]
  },
  {
   "cell_type": "code",
   "execution_count": null,
   "metadata": {},
   "outputs": [],
   "source": [
    "plt.plot(np.linspace(-max_za, max_za, num_pix), beam_sol)"
   ]
  },
  {
   "cell_type": "code",
   "execution_count": null,
   "metadata": {},
   "outputs": [],
   "source": [
    "test_vis = test_model.get_vis(data.time[time_slice], vis_cal[:,time_slice],\n",
    "                               num_pix, max_za=max_za)\n",
    "test_za = np.radians(np.linspace(-max_za, max_za, num_pix))\n",
    "test_map = np.dot(test_vis[:,0].T, np.exp(-2j * np.pi * ns_baselines[:,np.newaxis]\n",
    "                                        / test_model.wl * np.sin(test_za)[np.newaxis,:]))"
   ]
  },
  {
   "cell_type": "code",
   "execution_count": null,
   "metadata": {},
   "outputs": [],
   "source": [
    "plt.plot(test_map)"
   ]
  }
 ],
 "metadata": {
  "kernelspec": {
   "display_name": "continuum_beam",
   "language": "python",
   "name": "continuum_beam"
  },
  "language_info": {
   "codemirror_mode": {
    "name": "ipython",
    "version": 2
   },
   "file_extension": ".py",
   "mimetype": "text/x-python",
   "name": "python",
   "nbconvert_exporter": "python",
   "pygments_lexer": "ipython2",
   "version": "2.7.12"
  }
 },
 "nbformat": 4,
 "nbformat_minor": 2
}
