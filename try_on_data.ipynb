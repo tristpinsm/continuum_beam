{
 "cells": [
  {
   "cell_type": "code",
   "execution_count": null,
   "metadata": {},
   "outputs": [],
   "source": [
    "import healpy\n",
    "from cora.util import hputil\n",
    "import os\n",
    "os.environ[\"OMP_NUM_THREADS\"] = \"8\"\n",
    "import numpy as np\n",
    "from matplotlib import pyplot as plt\n",
    "from matplotlib import ticker\n",
    "from ch_util import ephemeris as ephem, andata, tools, data_index\n",
    "from caput.time import unix_to_skyfield_time\n",
    "import h5py\n",
    "import time\n",
    "from datetime import datetime\n",
    "from glob import glob\n",
    "from ch_pipeline.core import telescope\n",
    "from scipy.optimize import leastsq\n",
    "\n",
    "%load_ext autoreload\n",
    "%autoreload 2\n",
    "\n",
    "from continuum_beam import *\n",
    "from beam_utils import model_beam\n",
    "\n",
    "%matplotlib inline\n",
    "plt.rcParams.update({'figure.figsize': (16, 12), 'font.size': 20})"
   ]
  },
  {
   "cell_type": "code",
   "execution_count": null,
   "metadata": {},
   "outputs": [],
   "source": [
    "f = data_index.Finder(node_spoof={'cedar_archive': '/project/rpp-krs/chime/chime_archive/'})"
   ]
  },
  {
   "cell_type": "code",
   "execution_count": null,
   "metadata": {},
   "outputs": [],
   "source": [
    "# choose a day that seemed to have little site activity\n",
    "f.set_time_range(datetime(2018, 11, 18, 8), datetime(2018, 11, 19, 8))\n",
    "# exclude point source transits\n",
    "for src in (ephem.CasA, ephem.CygA, ephem.TauA, ephem.VirA):\n",
    "    f.exclude_transits(src, time_delta=600)\n",
    "# casA also shows up over the pole\n",
    "src_ra = np.degrees(ephem.CasA.ra.radians + np.pi) % 360.\n",
    "ra_delta = np.degrees(600. / (24*3600) * 2 * np.pi)\n",
    "f.exclude_RA_interval(src_ra - ra_delta/2., src_ra + ra_delta/2)\n",
    "# daytime\n",
    "f.exclude_daytime()\n",
    "# ignore global flags\n",
    "f.accept_all_global_flags()\n",
    "# get stacked data\n",
    "f.filter_acqs(data_index.ArchiveInst.name == 'chimestack')"
   ]
  },
  {
   "cell_type": "code",
   "execution_count": null,
   "metadata": {},
   "outputs": [],
   "source": [
    "acqs = f.get_results()\n",
    "f.print_results_summary()"
   ]
  },
  {
   "cell_type": "code",
   "execution_count": null,
   "metadata": {},
   "outputs": [],
   "source": [
    "freq_sel = (900,)"
   ]
  },
  {
   "cell_type": "code",
   "execution_count": null,
   "metadata": {},
   "outputs": [],
   "source": [
    "freq = None\n",
    "vis = []\n",
    "weight = []\n",
    "times = []\n",
    "for a in acqs:\n",
    "    for f in a[0]:\n",
    "        with h5py.File(f, 'r') as fh:\n",
    "            if freq is None:\n",
    "                freq = fh['index_map/freq']['centre']\n",
    "                prod = fh['index_map/prod'][:]\n",
    "                stack = fh['index_map/stack'][:]\n",
    "            some_times = fh['index_map/time']['ctime']\n",
    "            if some_times[0] < a[1][0]:\n",
    "                t_min = np.argmin(np.abs(fh['index_map/time']['ctime'] - a[1][0]))\n",
    "            else:\n",
    "                t_min = 0\n",
    "            if some_times[-1] > a[1][1]:\n",
    "                t_max = np.argmin(np.abs(fh['index_map/time']['ctime'] - a[1][1]))\n",
    "            else:\n",
    "                t_max = -1\n",
    "            vis.append(fh['vis'][freq_sel,:,t_min:t_max])\n",
    "            weight.append(fh['flags/vis_weight'][freq_sel,:,t_min:t_max])\n",
    "            times.append(some_times[t_min:t_max])\n",
    "vis = np.concatenate(vis, axis=-1)\n",
    "weight = np.concatenate(weight, axis=-1)\n",
    "times = np.concatenate(times)"
   ]
  },
  {
   "cell_type": "code",
   "execution_count": null,
   "metadata": {},
   "outputs": [],
   "source": [
    "start_time = times[0]\n",
    "inputs = tools.get_correlator_inputs(ephem.unix_to_datetime(start_time), correlator='chime')\n",
    "pos = tools.get_feed_positions(inputs)\n",
    "pol = tools.get_feed_polarisations(inputs)"
   ]
  },
  {
   "cell_type": "code",
   "execution_count": null,
   "metadata": {},
   "outputs": [],
   "source": [
    "ra = ephem.transit_RA(times)"
   ]
  },
  {
   "cell_type": "code",
   "execution_count": null,
   "metadata": {},
   "outputs": [],
   "source": [
    "plt.plot(pos[:,1])"
   ]
  },
  {
   "cell_type": "code",
   "execution_count": null,
   "metadata": {},
   "outputs": [],
   "source": [
    "freq[freq_sel[0]]"
   ]
  },
  {
   "cell_type": "code",
   "execution_count": null,
   "metadata": {},
   "outputs": [],
   "source": [
    "vis_model = ModelVis(freq=freq[freq_sel[0]], smooth=False, harm_basis=True)#, fname=\"./lambda_haslam408_dsds.fits\")"
   ]
  },
  {
   "cell_type": "code",
   "execution_count": null,
   "metadata": {},
   "outputs": [],
   "source": [
    "pol_sel = 'S'\n",
    "\n",
    "prod_excl = []\n",
    "\n",
    "ns_baselines = (pos[prod[stack['prod']]['input_a'],1] - pos[prod[stack['prod']]['input_b'],1])\n",
    "ew_baselines = (pos[prod[stack['prod']]['input_a'],0] - pos[prod[stack['prod']]['input_b'],0])\n",
    "\n",
    "pol_pair = np.empty(stack.shape[0], dtype=[('pol_a', '<U1'), ('pol_b', '<U1')])\n",
    "pol_pair['pol_a'] = pol[prod[stack['prod']]['input_a']]\n",
    "pol_pair['pol_b'] = pol[prod[stack['prod']]['input_b']]\n",
    "\n",
    "# exclude bad channels\n",
    "prod_excl += list(np.where(np.logical_not(np.isfinite(ew_baselines + ns_baselines)))[0])\n",
    "# exclude intercyl\n",
    "prod_excl += list(np.where(np.abs(ew_baselines) > 10.)[0])\n",
    "# exclude autos\n",
    "prod_excl += list(np.where(ns_baselines + ew_baselines == 0)[0])\n",
    "# exclude all but SS pol\n",
    "prod_excl += list(np.where(np.logical_not(np.logical_and(pol_pair['pol_a'] == pol_sel,\n",
    "                                                         pol_pair['pol_b'] == pol_sel)))[0])\n",
    "# exclude longer baselines\n",
    "prod_excl += list(np.where(np.abs(ns_baselines) > 0.5 * vis_model.wl / vis_model._res())[0])\n",
    "# exclude shorter baselines\n",
    "#prod_excl += list(np.where(np.abs(ns_baselines) < 3.)[0])\n",
    "# exclude all but cylinder A\n",
    "prod_excl += list(np.where(np.logical_or(prod[stack['prod']]['input_a'] > 512,\n",
    "                                         prod[stack['prod']]['input_b'] > 512))[0])\n",
    "\n",
    "# get unique values\n",
    "prod_excl = set(prod_excl)\n",
    "\n",
    "prod_sel = np.array([ p for p in range(stack.shape[0]) if not p in prod_excl ])"
   ]
  },
  {
   "cell_type": "code",
   "execution_count": null,
   "metadata": {},
   "outputs": [],
   "source": [
    "vis_sel = vis[0, prod_sel, :]\n",
    "weight_sel = weight[0,prod_sel,:]\n",
    "ns_baselines = ns_baselines[prod_sel]\n",
    "ew_baselines = ew_baselines[prod_sel]"
   ]
  },
  {
   "cell_type": "code",
   "execution_count": null,
   "metadata": {},
   "outputs": [],
   "source": [
    "vis_model.set_baselines(ns_baselines, ew_baselines)"
   ]
  },
  {
   "cell_type": "code",
   "execution_count": null,
   "metadata": {},
   "outputs": [],
   "source": [
    "max_za = 89.\n",
    "max_sinza = np.sin(np.radians(max_za))\n",
    "# approx resolution for smoothed Haslam\n",
    "approx_res = np.degrees(max(0.5 / np.abs(ns_baselines).max(), vis_model._res()))\n",
    "num_pix = int(max_za / approx_res)\n",
    "sinza = np.linspace(-max_sinza, max_sinza, num_pix)\n",
    "za = np.arcsin(sinza)"
   ]
  },
  {
   "cell_type": "code",
   "execution_count": null,
   "metadata": {},
   "outputs": [],
   "source": [
    "t_stride = 8\n",
    "time_slice = slice(0, vis.shape[-1] - (vis.shape[-1] % (4 * t_stride)), 4)"
   ]
  },
  {
   "cell_type": "code",
   "execution_count": null,
   "metadata": {},
   "outputs": [],
   "source": [
    "time_slice = slice(0, 3600, 4)\n",
    "time_slice = np.concatenate((np.arange(0,2600,8), np.arange(2800,3600,8)))\n",
    "#time_slice = np.arange(2800, 3600)"
   ]
  },
  {
   "cell_type": "code",
   "execution_count": null,
   "metadata": {},
   "outputs": [],
   "source": [
    "ntime = times[time_slice].shape[0]"
   ]
  },
  {
   "cell_type": "code",
   "execution_count": null,
   "metadata": {},
   "outputs": [],
   "source": [
    "for p in range(len(prod_sel)):\n",
    "    #if abs(ns_baselines[p]) > 10.:\n",
    "    #if abs(ns_baselines[p]) < 2.:\n",
    "    plt.plot(np.abs(vis_sel[p,:]))\n",
    "plt.plot(np.arange(times.shape[0])[time_slice], 2000*np.ones(ntime), 'o')\n",
    "#plt.vlines(np.degrees(ephem.CasA.ra.radians), *plt.ylim())"
   ]
  },
  {
   "cell_type": "code",
   "execution_count": null,
   "metadata": {},
   "outputs": [],
   "source": [
    "for p in range(len(prod_sel)):\n",
    "    #if abs(ns_baselines[p]) > 10.:\n",
    "    #if abs(ns_baselines[p]) < 2.:\n",
    "    plt.plot(ra, np.abs(vis_sel[p,:]))\n",
    "plt.plot(ra[time_slice], 2000*np.ones(ntime), 'o')\n",
    "#plt.vlines(np.degrees(ephem.CasA.ra.radians), *plt.ylim())"
   ]
  },
  {
   "cell_type": "code",
   "execution_count": null,
   "metadata": {},
   "outputs": [],
   "source": [
    "beam_sol = vis_model.fit_beam(times[time_slice], vis_sel[:,time_slice],\n",
    "                              np.ones_like(vis_sel[:,time_slice], dtype=float), num_pix, rcond=1e-6,\n",
    "                              #weight_sel[:,time_slice], num_pix, rcond=1e-6,\n",
    "                              chain_len=1000, max_za=max_za, xtalk_iter=3, resume=True)"
   ]
  },
  {
   "cell_type": "code",
   "execution_count": null,
   "metadata": {},
   "outputs": [],
   "source": [
    "beam_shape = np.sum(np.sin(np.arange(1,num_pix+1)[np.newaxis,:]\n",
    "                           * (za+np.pi/2)[:,np.newaxis])*beam_sol, axis=1)\n",
    "amp_fit = leastsq(lambda t: beam_shape - np.cos(za) * model_beam(za, 0.7, *t), (1.,))\n",
    "\n",
    "plt.plot(za, beam_shape, label='fit')\n",
    "plt.plot(za, np.cos(za)*model_beam(za, 0.7, *amp_fit[0]), label='simple model')\n",
    "plt.legend()\n",
    "plt.xlabel(r\"$\\theta$\")\n",
    "plt.title('Fit to CHIME data -- after 150 iterations')\n",
    "\n",
    "plt.savefig(\"./chime_xtalk_iter_beam.png\", dpi=300, bbox_inches='tight')"
   ]
  },
  {
   "cell_type": "code",
   "execution_count": null,
   "metadata": {},
   "outputs": [],
   "source": [
    "wl = vis_model.c / freq[freq_sel[0]]\n",
    "\n",
    "rmap = np.dot(vis_sel[:,time_slice].T, np.exp(-2j * np.pi * sinza[np.newaxis,:] * ns_baselines[:,np.newaxis] / wl)).real\n",
    "rmap_xtalk = np.dot(vis_model.xtalk.T, np.exp(-2j * np.pi * sinza[np.newaxis,:] * ns_baselines[:,np.newaxis] / wl)).real"
   ]
  },
  {
   "cell_type": "code",
   "execution_count": null,
   "metadata": {},
   "outputs": [],
   "source": [
    "plt.plot(rmap_xtalk)"
   ]
  },
  {
   "cell_type": "code",
   "execution_count": null,
   "metadata": {},
   "outputs": [],
   "source": [
    "plt.imshow(rmap.T, aspect='auto', origin='lower', vmax=20000, vmin=-10000,\n",
    "           extent=(0, (times[-1]-times[0])/3600, sinza[0], sinza[-1]))\n",
    "plt.colorbar()\n",
    "plt.ylabel(r\"$\\sin \\theta$\")\n",
    "plt.xlabel(\"hours since {}\".format(ephem.unix_to_datetime(times[0])))\n",
    "plt.title(\"CHIME map ({:.1f} MHz)\".format(freq[freq_sel]))\n",
    "\n",
    "plt.savefig(\"./chime_xtalk_map.png\", dpi=300, bbox_inches='tight')"
   ]
  },
  {
   "cell_type": "code",
   "execution_count": null,
   "metadata": {},
   "outputs": [],
   "source": [
    "model_vis = vis_model.get_vis(times[time_slice], vis_sel[:,time_slice], num_pix, max_za,\n",
    "                              model_beam=beam_sol, skip_basis=True)\n",
    "rmap_model = np.dot(model_vis.T, np.exp(-2j * np.pi * sinza[np.newaxis,:] * ns_baselines[:,np.newaxis] / wl)).real\n",
    "rmap_xtalk_sub = np.dot(vis_sel[:,time_slice].T - vis_model.xtalk,\n",
    "                        np.exp(-2j * np.pi * sinza[np.newaxis,:] * ns_baselines[:,np.newaxis] / wl)).real"
   ]
  },
  {
   "cell_type": "code",
   "execution_count": null,
   "metadata": {},
   "outputs": [],
   "source": [
    "plt.imshow(rmap_model.T.real, aspect='auto', origin='lower', vmax=20000, vmin=-10000,\n",
    "           extent=(0, (times[-1]-times[0])/3600, sinza[0], sinza[-1]))\n",
    "plt.colorbar()\n",
    "plt.ylabel(r\"$\\sin \\theta$\")\n",
    "plt.xlabel(\"hours since {}\".format(ephem.unix_to_datetime(times[0])))\n",
    "plt.title(\"Recovered beam and Haslam (408 MHz)\")\n",
    "\n",
    "plt.savefig(\"./chime_recov_map.png\", dpi=300, bbox_inches='tight')"
   ]
  },
  {
   "cell_type": "code",
   "execution_count": null,
   "metadata": {},
   "outputs": [],
   "source": [
    "plt.imshow(rmap_xtalk_sub.T.real, aspect='auto', origin='lower', vmax=20000, vmin=-10000,\n",
    "           extent=(0, (times[-1]-times[0])/3600, sinza[0], sinza[-1]))\n",
    "plt.colorbar()\n",
    "plt.ylabel(r\"$\\sin \\theta$\")\n",
    "plt.xlabel(\"hours since {}\".format(ephem.unix_to_datetime(times[0])))\n",
    "plt.title(\"input map minus recovered crosstalk ({:.1f} MHz)\".format(freq[freq_sel]))\n",
    "\n",
    "plt.savefig(\"./chime_cleaned_map.png\", dpi=300, bbox_inches='tight')"
   ]
  },
  {
   "cell_type": "code",
   "execution_count": null,
   "metadata": {},
   "outputs": [],
   "source": [
    "#plt.imshow((rmap_xtalk_sub - rmap_model).T / rmap.T, aspect='auto', origin='lower', vmax=10, vmin=-10)\n",
    "plt.imshow((rmap - rmap_model).T, aspect='auto', origin='lower', vmax=5000, vmin=-5000)\n",
    "plt.colorbar()"
   ]
  },
  {
   "cell_type": "code",
   "execution_count": null,
   "metadata": {},
   "outputs": [],
   "source": [
    "plt.plot(vis_sel[0,:2500].real, '.')"
   ]
  },
  {
   "cell_type": "code",
   "execution_count": null,
   "metadata": {},
   "outputs": [],
   "source": [
    "i = 0"
   ]
  },
  {
   "cell_type": "code",
   "execution_count": null,
   "metadata": {},
   "outputs": [],
   "source": [
    "plt.plot(np.abs(vis_sel[i, time_slice]))\n",
    "plt.plot(np.abs(model_vis[i,:]))\n",
    "i += 1"
   ]
  },
  {
   "cell_type": "code",
   "execution_count": null,
   "metadata": {},
   "outputs": [],
   "source": [
    "xtalk_est = (vis_sel[:,time_slice] - model_vis)[0,:]\n",
    "plt.plot(xtalk_est.real)\n",
    "plt.plot(xtalk_est.imag)"
   ]
  },
  {
   "cell_type": "code",
   "execution_count": null,
   "metadata": {},
   "outputs": [],
   "source": [
    "plt.plot(vis_model.xtalk.real)\n",
    "plt.plot(vis_model.xtalk.imag)"
   ]
  }
 ],
 "metadata": {
  "kernelspec": {
   "display_name": "ch_pipeline_venv",
   "language": "python",
   "name": "ch_pipeline_venv"
  },
  "language_info": {
   "codemirror_mode": {
    "name": "ipython",
    "version": 2
   },
   "file_extension": ".py",
   "mimetype": "text/x-python",
   "name": "python",
   "nbconvert_exporter": "python",
   "pygments_lexer": "ipython2",
   "version": "2.7.14"
  }
 },
 "nbformat": 4,
 "nbformat_minor": 2
}
