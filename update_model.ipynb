{
 "cells": [
  {
   "cell_type": "code",
   "execution_count": null,
   "metadata": {},
   "outputs": [],
   "source": [
    "import healpy\n",
    "from cora.util import hputil, coord\n",
    "import numpy as np\n",
    "from matplotlib import pyplot as plt\n",
    "from ch_util import ephemeris as ephem\n",
    "from caput.time import unix_to_skyfield_time\n",
    "import h5py\n",
    "import time\n",
    "from glob import glob\n",
    "from drift.telescope import cylbeam\n",
    "\n",
    "%matplotlib inline\n",
    "plt.rcParams.update({'figure.figsize': (16, 12), 'font.size': 16})"
   ]
  },
  {
   "cell_type": "code",
   "execution_count": null,
   "metadata": {},
   "outputs": [],
   "source": [
    "haslam_dsds = healpy.fitsfunc.read_map(\"./lambda_haslam408_dsds.fits\")\n",
    "haslam_nofilt = healpy.fitsfunc.read_map(\"./lambda_haslam408_nofilt.fits\")"
   ]
  },
  {
   "cell_type": "code",
   "execution_count": null,
   "metadata": {},
   "outputs": [],
   "source": [
    "hputil.coord_g2c(haslam_nofilt)"
   ]
  },
  {
   "cell_type": "code",
   "execution_count": null,
   "metadata": {},
   "outputs": [],
   "source": [
    "nside = 512"
   ]
  },
  {
   "cell_type": "code",
   "execution_count": null,
   "metadata": {},
   "outputs": [],
   "source": [
    "healpy.visufunc.mollview(haslam_nofilt)"
   ]
  },
  {
   "cell_type": "markdown",
   "metadata": {},
   "source": [
    "# Convolve EW beam with Haslam"
   ]
  },
  {
   "cell_type": "code",
   "execution_count": null,
   "metadata": {},
   "outputs": [],
   "source": [
    "beam_ew = cylbeam.fraunhofer_cylinder(lambda x: np.ones_like(x), 20.)"
   ]
  },
  {
   "cell_type": "code",
   "execution_count": null,
   "metadata": {},
   "outputs": [],
   "source": [
    "plt.plot(beam_ew(np.linspace(-np.pi/2, np.pi/2, 800))**2)"
   ]
  },
  {
   "cell_type": "code",
   "execution_count": null,
   "metadata": {},
   "outputs": [],
   "source": [
    "ang_pos = healpy.pix2ang(nside, np.arange(len(haslam_nofilt)))[1]\n",
    "ang_pos *= -1\n",
    "ang_pos[np.where(ang_pos + np.pi < 0)] += 2* np.pi"
   ]
  },
  {
   "cell_type": "code",
   "execution_count": null,
   "metadata": {},
   "outputs": [],
   "source": [
    "beam_win = beam_ew(ang_pos)"
   ]
  },
  {
   "cell_type": "code",
   "execution_count": null,
   "metadata": {},
   "outputs": [],
   "source": [
    "healpy.visufunc.mollview(beam_win)"
   ]
  },
  {
   "cell_type": "code",
   "execution_count": null,
   "metadata": {},
   "outputs": [],
   "source": [
    "cart_proj = healpy.projector.CartesianProj()\n",
    "cart_map = cart_proj.projmap(haslam_nofilt, lambda x,y,z: healpy.vec2pix(nside, x, y, z))\n",
    "xy = cart_proj.ij2xy()"
   ]
  },
  {
   "cell_type": "code",
   "execution_count": null,
   "metadata": {},
   "outputs": [],
   "source": [
    "zenith = np.radians((90. - ephem.CHIMELATITUDE, 0.))\n",
    "rot = (0., 0., 0.)\n",
    "angpos = np.radians((90. - xy[1].data.flatten(), xy[0].data.flatten())).T\n",
    "width = 20."
   ]
  },
  {
   "cell_type": "code",
   "execution_count": null,
   "metadata": {},
   "outputs": [],
   "source": [
    "def get_beam_amp(angpos, zenith, rot=(0.,0.,0.), width=20., ns_beam=False):\n",
    "\n",
    "    that, phat = coord.thetaphi_plane_cart(zenith)\n",
    "\n",
    "    xhat, yhat, zhat = cylbeam.rotate_ypr(rot, phat, -that, coord.sph_to_cart(zenith))\n",
    "\n",
    "    xplane = lambda t: np.ones_like(t)\n",
    "    yplane = lambda t: np.cos(t)\n",
    "    #yplane = lambda t: cylbeam.beam_exptan(t, 1.)\n",
    "\n",
    "    beampat = cylbeam.fraunhofer_cylinder(xplane, width)\n",
    "\n",
    "    cvec = coord.sph_to_cart(angpos)\n",
    "    horizon = (np.dot(cvec, coord.sph_to_cart(zenith)) > 0.0).astype(np.float64).reshape(angpos.shape[0])\n",
    "\n",
    "    ew_amp = beampat(np.dot(cvec, xhat)).reshape(angpos.shape[0])\n",
    "    if ns_beam:\n",
    "        ns_amp = yplane(np.arcsin(np.dot(cvec, yhat))).reshape(angpos.shape[0])\n",
    "    else:\n",
    "        ns_amp = 1.\n",
    "\n",
    "    return ew_amp, ns_amp, horizon\n",
    "\n",
    "def convolve_beam_cart(in_map, beam_map):\n",
    "    \n",
    "    fft_map = np.fft.fft(in_map, axis=1)\n",
    "    fft_win = np.fft.fft(beam_map, axis=1)\n",
    "\n",
    "    return np.fft.fftshift(np.fft.ifft(fft_map * fft_win, axis=1), axes=(1,)).real\n",
    "\n",
    "#norm = np.sum(beam_amp**2 * horizon, axis=1)\n",
    "#norm[np.where(norm == 0.)] = 1.\n",
    "\n",
    "#beam_amp /= norm[:,np.newaxis]"
   ]
  },
  {
   "cell_type": "code",
   "execution_count": null,
   "metadata": {},
   "outputs": [],
   "source": [
    "beam_amp = get_beam_amp(angpos, zenith, ns_beam=True)"
   ]
  },
  {
   "cell_type": "code",
   "execution_count": null,
   "metadata": {},
   "outputs": [],
   "source": [
    "plt.imshow((beam_amp[0]**2 * beam_amp[2]).reshape(xy[0].data.shape), origin='lower', aspect='auto')\n",
    "plt.colorbar()"
   ]
  },
  {
   "cell_type": "code",
   "execution_count": null,
   "metadata": {},
   "outputs": [],
   "source": [
    "haslam_smth = convolve_beam_cart(cart_map, beam_amp**2)"
   ]
  },
  {
   "cell_type": "code",
   "execution_count": null,
   "metadata": {},
   "outputs": [],
   "source": [
    "plt.imshow(np.log10(np.abs(cart_map)), origin='lower', aspect='auto',\n",
    "           extent=(xy[0].data[0,0], xy[0].data[0,-1], xy[1].data[0,0], xy[1].data[-1,0]))"
   ]
  },
  {
   "cell_type": "code",
   "execution_count": null,
   "metadata": {},
   "outputs": [],
   "source": [
    "plt.imshow(np.log10(np.abs(haslam_smth)), origin='lower', aspect='auto', vmin=3)\n",
    "plt.colorbar()"
   ]
  },
  {
   "cell_type": "markdown",
   "metadata": {},
   "source": [
    "# Now in HEALpix"
   ]
  },
  {
   "cell_type": "code",
   "execution_count": null,
   "metadata": {},
   "outputs": [],
   "source": [
    "rings = healpy.ringinfo(nside, np.arange(4*nside))"
   ]
  },
  {
   "cell_type": "code",
   "execution_count": null,
   "metadata": {},
   "outputs": [],
   "source": [
    "haslam_smth = np.zeros_like(haslam_nofilt)\n",
    "beam_map = np.zeros_like(haslam_nofilt)\n",
    "for r in xrange(len(rings[0])):\n",
    "    pix = np.arange(rings[0][r], rings[0][r] + rings[1][r])\n",
    "    if len(pix) == 0:\n",
    "        continue\n",
    "    angpos = np.array(healpy.pix2ang(nside, pix, nest=False)).T\n",
    "    beam_amp = get_beam_amp(angpos, zenith, ns_beam=True)\n",
    "    fft_map = np.fft.fft(haslam_nofilt[pix])\n",
    "    fft_beam = np.fft.fft(beam_amp**2)\n",
    "    \n",
    "    beam_map[pix] = beam_amp\n",
    "    #haslam_smth[pix] = np.fft.fftshift(np.fft.ifft(fft_map*fft_beam)).real\n",
    "    haslam_smth[pix] = np.fft.ifft(fft_map*fft_beam).real"
   ]
  },
  {
   "cell_type": "code",
   "execution_count": null,
   "metadata": {},
   "outputs": [],
   "source": [
    "fig = plt.figure()\n",
    "healpy.visufunc.mollview(np.log10(haslam_nofilt), nest=False, fig=1, xsize=2000)"
   ]
  },
  {
   "cell_type": "code",
   "execution_count": null,
   "metadata": {},
   "outputs": [],
   "source": [
    "fig = plt.figure()\n",
    "healpy.visufunc.mollview(np.log10(haslam_smth), nest=False, fig=1, xsize=2000)\n",
    "\n",
    "plt.savefig(\"convolved_beam_haslam_no_ns.pdf\", dpi=300, bbox_to_inches='tight')"
   ]
  },
  {
   "cell_type": "code",
   "execution_count": null,
   "metadata": {},
   "outputs": [],
   "source": [
    "fig = plt.figure()\n",
    "healpy.visufunc.mollview(beam_map, nest=False, fig=1, xsize=2000)"
   ]
  },
  {
   "cell_type": "markdown",
   "metadata": {},
   "source": [
    "## TODO: \n",
    "- Do correct convolution to get smilies\n",
    "- Look into whether theta direction is getting flipped."
   ]
  },
  {
   "cell_type": "code",
   "execution_count": null,
   "metadata": {},
   "outputs": [],
   "source": [
    "np.arange(20).reshape(10,2).T"
   ]
  },
  {
   "cell_type": "code",
   "execution_count": null,
   "metadata": {},
   "outputs": [],
   "source": [
    "np.array(healpy.pix2ang(nside,(1000,1002, 1003)))"
   ]
  },
  {
   "cell_type": "markdown",
   "metadata": {},
   "source": [
    "## Instead, do the integration/convolution at every step"
   ]
  },
  {
   "cell_type": "code",
   "execution_count": null,
   "metadata": {},
   "outputs": [],
   "source": [
    "healpy.rotator.euler_matrix_new?"
   ]
  },
  {
   "cell_type": "code",
   "execution_count": null,
   "metadata": {},
   "outputs": [],
   "source": [
    "ra = np.radians(90.)\n",
    "lat = np.radians(ephem.CHIMELATITUDE)\n",
    "r = healpy.rotator.Rotator((np.pi/2-ra, -lat, -np.pi/2), eulertype='X', deg=False)"
   ]
  },
  {
   "cell_type": "code",
   "execution_count": null,
   "metadata": {},
   "outputs": [],
   "source": [
    "haslam_telcoord = healpy.pix2ang(nside, np.arange(haslam_nofilt.shape[0]))[1]\n",
    "haslam_telcoord = r.rotate_map(haslam_telcoord)"
   ]
  },
  {
   "cell_type": "code",
   "execution_count": null,
   "metadata": {},
   "outputs": [],
   "source": [
    "fig = plt.figure()\n",
    "healpy.visufunc.mollview(haslam_telcoord, nest=False, fig=1, xsize=2000)"
   ]
  },
  {
   "cell_type": "code",
   "execution_count": null,
   "metadata": {},
   "outputs": [],
   "source": [
    "test_map = np.zeros((400, 800))\n",
    "ra = np.linspace(0., 2*np.pi, test_map.shape[1])\n",
    "dec = np.linspace(0., np.pi, test_map.shape[0])\n",
    "\n",
    "rot = healpy.rotator.Rotator((np.pi/2, -lat, np.pi/2), eulertype='X', deg=False)\n",
    "tel_beam = rot.rotate_map(beam_map)\n",
    "\n",
    "#ring_theta = np.arcsin(rings[2])\n",
    "\n",
    "#for i in range(test_map.shape[0]):\n",
    "#    for j in range(test_map.shape[1]):\n",
    "#        r = \n",
    "#        pix = np.arange(rings[0][r], rings[0][r] + rings[1][r])\n",
    "#        test_map[i,j] = np.sum()"
   ]
  },
  {
   "cell_type": "code",
   "execution_count": null,
   "metadata": {},
   "outputs": [],
   "source": [
    "fig = plt.figure()\n",
    "healpy.visufunc.mollview(tel_beam, nest=False, fig=1, xsize=2000)"
   ]
  },
  {
   "cell_type": "code",
   "execution_count": null,
   "metadata": {},
   "outputs": [],
   "source": [
    "plt.plot(rings[2])"
   ]
  }
 ],
 "metadata": {
  "kernelspec": {
   "display_name": "continuum_beam",
   "language": "python",
   "name": "continuum_beam"
  },
  "language_info": {
   "codemirror_mode": {
    "name": "ipython",
    "version": 2
   },
   "file_extension": ".py",
   "mimetype": "text/x-python",
   "name": "python",
   "nbconvert_exporter": "python",
   "pygments_lexer": "ipython2",
   "version": "2.7.12"
  }
 },
 "nbformat": 4,
 "nbformat_minor": 2
}
